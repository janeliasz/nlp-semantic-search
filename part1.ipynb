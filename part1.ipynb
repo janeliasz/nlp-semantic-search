{
 "cells": [
  {
   "cell_type": "code",
   "execution_count": 1,
   "metadata": {},
   "outputs": [],
   "source": [
    "import torch\n",
    "from datasets import load_dataset, Dataset\n",
    "from sentence_transformers import SentenceTransformer, CrossEncoder\n",
    "import pandas as pd\n",
    "import random\n",
    "from tqdm import tqdm"
   ]
  },
  {
   "cell_type": "code",
   "execution_count": null,
   "metadata": {},
   "outputs": [
    {
     "data": {
      "text/plain": [
       "'mps'"
      ]
     },
     "execution_count": 2,
     "metadata": {},
     "output_type": "execute_result"
    }
   ],
   "source": [
    "device = \"cuda\" if torch.cuda.is_available() else \"cpu\"\n",
    "# device = \"mps\"\n",
    "device"
   ]
  },
  {
   "cell_type": "code",
   "execution_count": 3,
   "metadata": {},
   "outputs": [
    {
     "data": {
      "text/plain": [
       "Dataset({\n",
       "    features: ['question', 'answer'],\n",
       "    num_rows: 87599\n",
       "})"
      ]
     },
     "execution_count": 3,
     "metadata": {},
     "output_type": "execute_result"
    }
   ],
   "source": [
    "dataset = load_dataset(\"sentence-transformers/squad\", split=\"train\")\n",
    "dataset"
   ]
  },
  {
   "cell_type": "code",
   "execution_count": 4,
   "metadata": {},
   "outputs": [
    {
     "data": {
      "text/plain": [
       "Dataset({\n",
       "    features: ['question', 'answer'],\n",
       "    num_rows: 10000\n",
       "})"
      ]
     },
     "execution_count": 4,
     "metadata": {},
     "output_type": "execute_result"
    }
   ],
   "source": [
    "dataset = dataset.select(range(10000))\n",
    "# dataset = dataset.select(range(165, 200))\n",
    "dataset"
   ]
  },
  {
   "cell_type": "markdown",
   "metadata": {},
   "source": [
    "## Retrieval"
   ]
  },
  {
   "cell_type": "code",
   "execution_count": 5,
   "metadata": {},
   "outputs": [
    {
     "data": {
      "text/plain": [
       "SentenceTransformer(\n",
       "  (0): Transformer({'max_seq_length': 512, 'do_lower_case': False}) with Transformer model: MPNetModel \n",
       "  (1): Pooling({'word_embedding_dimension': 768, 'pooling_mode_cls_token': True, 'pooling_mode_mean_tokens': False, 'pooling_mode_max_tokens': False, 'pooling_mode_mean_sqrt_len_tokens': False, 'pooling_mode_weightedmean_tokens': False, 'pooling_mode_lasttoken': False, 'include_prompt': True})\n",
       ")"
      ]
     },
     "execution_count": 5,
     "metadata": {},
     "output_type": "execute_result"
    }
   ],
   "source": [
    "model = SentenceTransformer(\"multi-qa-mpnet-base-dot-v1\")\n",
    "model.to(device)"
   ]
  },
  {
   "cell_type": "markdown",
   "metadata": {},
   "source": [
    "#### Calculate embeddings"
   ]
  },
  {
   "cell_type": "code",
   "execution_count": 6,
   "metadata": {},
   "outputs": [
    {
     "data": {
      "text/plain": [
       "torch.Size([10000, 768])"
      ]
     },
     "execution_count": 6,
     "metadata": {},
     "output_type": "execute_result"
    }
   ],
   "source": [
    "questions_emb = model.encode(dataset[\"question\"], convert_to_tensor=True)\n",
    "questions_emb.shape"
   ]
  },
  {
   "cell_type": "markdown",
   "metadata": {},
   "source": [
    "Answer are encoded differently because they repeat in the dataset:"
   ]
  },
  {
   "cell_type": "code",
   "execution_count": 7,
   "metadata": {},
   "outputs": [],
   "source": [
    "# This is very slow because we are embedding the same answer text multiple times\n",
    "\n",
    "# dataset2 = dataset.map(\n",
    "#     lambda x: {\n",
    "#         \"question_emb\": model.encode(x[\"question\"], convert_to_tensor=True),\n",
    "#         \"answer_emb\": model.encode(x[\"answer\"], convert_to_tensor=True),\n",
    "#     },\n",
    "#     batched=True\n",
    "# )"
   ]
  },
  {
   "cell_type": "code",
   "execution_count": 8,
   "metadata": {},
   "outputs": [
    {
     "name": "stdout",
     "output_type": "stream",
     "text": [
      "Num of unique answers: 1867\n"
     ]
    }
   ],
   "source": [
    "df = dataset.to_pandas()\n",
    "\n",
    "df[\"answer_map\"] = pd.factorize(df[\"answer\"])[0]\n",
    "unique_answers = df[\"answer\"].drop_duplicates().tolist()\n",
    "print(\"Num of unique answers:\", len(unique_answers))\n",
    "\n",
    "dataset = Dataset.from_pandas(df)"
   ]
  },
  {
   "cell_type": "code",
   "execution_count": 9,
   "metadata": {},
   "outputs": [
    {
     "data": {
      "text/plain": [
       "torch.Size([1867, 768])"
      ]
     },
     "execution_count": 9,
     "metadata": {},
     "output_type": "execute_result"
    }
   ],
   "source": [
    "answers_emb = model.encode(unique_answers, convert_to_tensor=True)\n",
    "answers_emb.shape"
   ]
  },
  {
   "cell_type": "markdown",
   "metadata": {},
   "source": [
    "#### Making queries"
   ]
  },
  {
   "cell_type": "code",
   "execution_count": 10,
   "metadata": {},
   "outputs": [],
   "source": [
    "top_k = 5"
   ]
  },
  {
   "cell_type": "code",
   "execution_count": 11,
   "metadata": {},
   "outputs": [],
   "source": [
    "def print_query_results(question_idx, scores, indices):\n",
    "    print(\"\\nQuestion:\", dataset[\"question\"][question_idx])\n",
    "    print(f\"Correct answer IDX: {dataset[\"answer_map\"][question_idx]}\\n\")\n",
    "\n",
    "    for i, (score, idx) in enumerate(zip(scores, indices)):\n",
    "        print(f\"Answer {i+1} IDX: {idx}\")\n",
    "        print(f\"Score: {score.item()}\")\n",
    "        print(f\"Text: {unique_answers[idx]}\\n\")\n",
    "    \n",
    "    print(\"=====================================\")"
   ]
  },
  {
   "cell_type": "code",
   "execution_count": 12,
   "metadata": {},
   "outputs": [],
   "source": [
    "def analyze_question(question_idx, top_k=5):\n",
    "    question_emb = questions_emb[question_idx]\n",
    "\n",
    "    similarity_scores = model.similarity(question_emb, answers_emb)[0]\n",
    "\n",
    "    scores, indices = torch.topk(similarity_scores, k=top_k)\n",
    "\n",
    "    print_query_results(question_idx, scores, indices)"
   ]
  },
  {
   "cell_type": "code",
   "execution_count": 13,
   "metadata": {},
   "outputs": [
    {
     "name": "stdout",
     "output_type": "stream",
     "text": [
      "\n",
      "Question: To whom did the Virgin Mary allegedly appear in 1858 in Lourdes France?\n",
      "Correct answer IDX: 0\n",
      "\n",
      "Answer 1 IDX: 0\n",
      "Score: 21.645751953125\n",
      "Text: Architecturally, the school has a Catholic character. Atop the Main Building's gold dome is a golden statue of the Virgin Mary. Immediately in front of the Main Building and facing it, is a copper statue of Christ with arms upraised with the legend \"Venite Ad Me Omnes\". Next to the Main Building is the Basilica of the Sacred Heart. Immediately behind the basilica is the Grotto, a Marian place of prayer and reflection. It is a replica of the grotto at Lourdes, France where the Virgin Mary reputedly appeared to Saint Bernadette Soubirous in 1858. At the end of the main drive (and in a direct line that connects through 3 statues and the Gold Dome), is a simple, modern stone statue of Mary.\n",
      "\n",
      "Answer 2 IDX: 589\n",
      "Score: 16.99161148071289\n",
      "Text: The first documented visit by a European was in 1524 by Giovanni da Verrazzano, a Florentine explorer in the service of the French crown, who sailed his ship La Dauphine into New York Harbor. He claimed the area for France and named it \"Nouvelle Angoulême\" (New Angoulême).\n",
      "\n",
      "Answer 3 IDX: 983\n",
      "Score: 15.784933090209961\n",
      "Text: Tourist hotspots in Portugal are Lisbon, Algarve, Madeira, Porto and the city of Coimbra, also, between 4-5 million religious pilgrims visit Fátima each year, where apparitions of the Blessed Virgin Mary to three shepherd children reportedly took place in 1917. The Sanctuary of Fátima is one of the largest Roman Catholic shrines in the world. The Portuguese government continues to promote and develop new tourist destinations, such as the Douro Valley, the island of Porto Santo, and Alentejo. Lisbon is the 16th European city which attracts the most tourists (with seven million tourists occupying the city's hotels in 2006, a number that grew 11.8% compared to previous year). Lisbon in recent years surpassed the Algarve as the leading tourist region in Portugal. Porto and Northern Portugal, especially the urban areas north of Douro River valley, was the tourist destination which grew most (11.9%) in 2006, surpassing Madeira (in 2010), as the third most visited destination.[citation needed]\n",
      "\n",
      "Answer 4 IDX: 38\n",
      "Score: 15.589715003967285\n",
      "Text: The University of Notre Dame du Lac (or simply Notre Dame /ˌnoʊtərˈdeɪm/ NOH-tər-DAYM) is a Catholic research university located adjacent to South Bend, Indiana, in the United States. In French, Notre Dame du Lac means \"Our Lady of the Lake\" and refers to the university's patron saint, the Virgin Mary. The main campus covers 1,250 acres in a suburban setting and it contains a number of recognizable landmarks, such as the Golden Dome, the \"Word of Life\" mural (commonly known as Touchdown Jesus), and the Basilica.\n",
      "\n",
      "Answer 5 IDX: 999\n",
      "Score: 15.161367416381836\n",
      "Text: Within the white inescutcheon, the five quinas (small blue shields) with their five white bezants representing the five wounds of Christ (Portuguese: Cinco Chagas) when crucified and are popularly associated with the \"Miracle of Ourique\". The story associated with this miracle tells that before the Battle of Ourique (25 July 1139), an old hermit appeared before Count Afonso Henriques (future Afonso I) as a divine messenger. He foretold Afonso's victory and assured him that God was watching over him and his peers. The messenger advised him to walk away from his camp, alone, if he heard a nearby chapel bell tolling, in the following night. In doing so, he witnessed an apparition of Jesus on the cross. Ecstatic, Afonso heard Jesus promising victories for the coming battles, as well as God's wish to act through Afonso, and his descendants, in order to create an empire which would carry His name to unknown lands, thus choosing the Portuguese to perform great tasks.\n",
      "\n",
      "=====================================\n"
     ]
    }
   ],
   "source": [
    "analyze_question(0)"
   ]
  },
  {
   "cell_type": "code",
   "execution_count": 14,
   "metadata": {},
   "outputs": [
    {
     "data": {
      "text/plain": [
       "[1824, 409, 4506, 4012, 3657]"
      ]
     },
     "execution_count": 14,
     "metadata": {},
     "output_type": "execute_result"
    }
   ],
   "source": [
    "n = 5\n",
    "\n",
    "random.seed(42)\n",
    "random_indices = random.sample(range(len(dataset)), n)\n",
    "random_indices"
   ]
  },
  {
   "cell_type": "code",
   "execution_count": 15,
   "metadata": {},
   "outputs": [
    {
     "name": "stdout",
     "output_type": "stream",
     "text": [
      "\n",
      "Question: What condition did Frédéric describe the piano that arrived to him through many dangerous obstacles?\n",
      "Correct answer IDX: 244\n",
      "\n",
      "Answer 1 IDX: 244\n",
      "Score: 23.215896606445312\n",
      "Text: On 3 December, Chopin complained about his bad health and the incompetence of the doctors in Majorca: \"Three doctors have visited me ... The first said I was dead; the second said I was dying; and the third said I was about to die.\" He also had problems having his Pleyel piano sent to him. It finally arrived from Paris in December. Chopin wrote to Pleyel in January 1839: \"I am sending you my Preludes [(Op. 28)]. I finished them on your little piano, which arrived in the best possible condition in spite of the sea, the bad weather and the Palma customs.\" Chopin was also able to undertake work on his Ballade No. 2, Op. 38; two Polonaises, Op. 40; and the Scherzo No. 3, Op. 39.\n",
      "\n",
      "Answer 2 IDX: 296\n",
      "Score: 22.439037322998047\n",
      "Text: Jones comments that \"Chopin's unique position as a composer, despite the fact that virtually everything he wrote was for the piano, has rarely been questioned.\" He also notes that Chopin was fortunate to arrive in Paris in 1831—\"the artistic environment, the publishers who were willing to print his music, the wealthy and aristocratic who paid what Chopin asked for their lessons\"—and these factors, as well as his musical genius, also fuelled his contemporary and later reputation. While his illness and his love-affairs conform to some of the stereotypes of romanticism, the rarity of his public recitals (as opposed to performances at fashionable Paris soirées) led Arthur Hutchings to suggest that \"his lack of Byronic flamboyance [and] his aristocratic reclusiveness make him exceptional\" among his romantic contemporaries, such as Liszt and Henri Herz.\n",
      "\n",
      "Answer 3 IDX: 248\n",
      "Score: 21.625804901123047\n",
      "Text: From 1842 onwards, Chopin showed signs of serious illness. After a solo recital in Paris on 21 February 1842, he wrote to Grzymała: \"I have to lie in bed all day long, my mouth and tonsils are aching so much.\" He was forced by illness to decline a written invitation from Alkan to participate in a repeat performance of the Beethoven Seventh Symphony arrangement at Erard's on 1 March 1843. Late in 1844, Charles Hallé visited Chopin and found him \"hardly able to move, bent like a half-opened penknife and evidently in great pain\", although his spirits returned when he started to play the piano for his visitor. Chopin's health continued to deteriorate, particularly from this time onwards. Modern research suggests that apart from any other illnesses, he may also have suffered from temporal lobe epilepsy.\n",
      "\n",
      "Answer 4 IDX: 217\n",
      "Score: 21.40324592590332\n",
      "Text: Frédéric François Chopin (/ˈʃoʊpæn/; French pronunciation: ​[fʁe.de.ʁik fʁɑ̃.swa ʃɔ.pɛ̃]; 22 February or 1 March 1810 – 17 October 1849), born Fryderyk Franciszek Chopin,[n 1] was a Polish and French (by citizenship and birth of father) composer and a virtuoso pianist of the Romantic era, who wrote primarily for the solo piano. He gained and has maintained renown worldwide as one of the leading musicians of his era, whose \"poetic genius was based on a professional technique that was without equal in his generation.\" Chopin was born in what was then the Duchy of Warsaw, and grew up in Warsaw, which after 1815 became part of Congress Poland. A child prodigy, he completed his musical education and composed his earlier works in Warsaw before leaving Poland at the age of 20, less than a month before the outbreak of the November 1830 Uprising.\n",
      "\n",
      "Answer 5 IDX: 218\n",
      "Score: 20.625246047973633\n",
      "Text: At the age of 21 he settled in Paris. Thereafter, during the last 18 years of his life, he gave only some 30 public performances, preferring the more intimate atmosphere of the salon. He supported himself by selling his compositions and teaching piano, for which he was in high demand. Chopin formed a friendship with Franz Liszt and was admired by many of his musical contemporaries, including Robert Schumann. In 1835 he obtained French citizenship. After a failed engagement to Maria Wodzińska, from 1837 to 1847 he maintained an often troubled relationship with the French writer George Sand. A brief and unhappy visit to Majorca with Sand in 1838–39 was one of his most productive periods of composition. In his last years, he was financially supported by his admirer Jane Stirling, who also arranged for him to visit Scotland in 1848. Through most of his life, Chopin suffered from poor health. He died in Paris in 1849, probably of tuberculosis.\n",
      "\n",
      "=====================================\n",
      "\n",
      "Question: When did Beyoncé release her first solo album?\n",
      "Correct answer IDX: 65\n",
      "\n",
      "Answer 1 IDX: 56\n",
      "Score: 21.415756225585938\n",
      "Text: Following the disbandment of Destiny's Child in June 2005, she released her second solo album, B'Day (2006), which contained hits \"Déjà Vu\", \"Irreplaceable\", and \"Beautiful Liar\". Beyoncé also ventured into acting, with a Golden Globe-nominated performance in Dreamgirls (2006), and starring roles in The Pink Panther (2006) and Obsessed (2009). Her marriage to rapper Jay Z and portrayal of Etta James in Cadillac Records (2008) influenced her third album, I Am... Sasha Fierce (2008), which saw the birth of her alter-ego Sasha Fierce and earned a record-setting six Grammy Awards in 2010, including Song of the Year for \"Single Ladies (Put a Ring on It)\". Beyoncé took a hiatus from music in 2010 and took over management of her career; her fourth album 4 (2011) was subsequently mellower in tone, exploring 1970s funk, 1980s pop, and 1990s soul. Her critically acclaimed fifth studio album, Beyoncé (2013), was distinguished from previous releases by its experimental production and exploration of darker themes.\n",
      "\n",
      "Answer 2 IDX: 80\n",
      "Score: 20.777050018310547\n",
      "Text: On February 6, 2016, one day before her performance at the Super Bowl, Beyoncé released a new single exclusively on music streaming service Tidal called \"Formation\".\n",
      "\n",
      "Answer 3 IDX: 78\n",
      "Score: 20.68880844116211\n",
      "Text: On December 13, 2013, Beyoncé unexpectedly released her eponymous fifth studio album on the iTunes Store without any prior announcement or promotion. The album debuted atop the Billboard 200 chart, giving Beyoncé her fifth consecutive number-one album in the US. This made her the first woman in the chart's history to have her first five studio albums debut at number one. Beyoncé received critical acclaim and commercial success, selling one million digital copies worldwide in six days; The New York Times noted the album's unconventional, unexpected release as significant. Musically an electro-R&B album, it concerns darker themes previously unexplored in her work, such as \"bulimia, postnatal depression [and] the fears and insecurities of marriage and motherhood\". The single \"Drunk in Love\", featuring Jay Z, peaked at number two on the Billboard Hot 100 chart. In April 2014, after much speculation in the weeks before, Beyoncé and Jay Z officially announced their On the Run Tour. It served as the couple's first co-headlining stadium tour together. On August 24, 2014, she received the Video Vanguard Award at the 2014 MTV Video Music Awards. Knowles also took home three competitive awards: Best Video with a Social Message and Best Cinematography for \"Pretty Hurts\", as well as best collaboration for \"Drunk in Love\". In November, Forbes reported that Beyoncé was the top-earning woman in music for the second year in a row—earning $115 million in the year, more than double her earnings in 2013. Beyoncé was reissued with new material in three forms: as an extended play, a box set, as well as a full platinum edition.\n",
      "\n",
      "Answer 4 IDX: 67\n",
      "Score: 20.329559326171875\n",
      "Text: Beyoncé's second solo album B'Day was released on September 5, 2006, in the US, to coincide with her twenty-fifth birthday. It sold 541,000 copies in its first week and debuted atop the Billboard 200, becoming Beyoncé's second consecutive number-one album in the United States. The album's lead single \"Déjà Vu\", featuring Jay Z, reached the top five on the Billboard Hot 100 chart. The second international single \"Irreplaceable\" was a commercial success worldwide, reaching number one in Australia, Hungary, Ireland, New Zealand and the United States. B'Day also produced three other singles; \"Ring the Alarm\", \"Get Me Bodied\", and \"Green Light\" (released in the United Kingdom only).\n",
      "\n",
      "Answer 5 IDX: 65\n",
      "Score: 20.207990646362305\n",
      "Text: Beyoncé's first solo recording was a feature on Jay Z's \"'03 Bonnie & Clyde\" that was released in October 2002, peaking at number four on the U.S. Billboard Hot 100 chart. Her first solo album Dangerously in Love was released on June 24, 2003, after Michelle Williams and Kelly Rowland had released their solo efforts. The album sold 317,000 copies in its first week, debuted atop the Billboard 200, and has since sold 11 million copies worldwide. The album's lead single, \"Crazy in Love\", featuring Jay Z, became Beyoncé's first number-one single as a solo artist in the US. The single \"Baby Boy\" also reached number one, and singles, \"Me, Myself and I\" and \"Naughty Girl\", both reached the top-five. The album earned Beyoncé a then record-tying five awards at the 46th Annual Grammy Awards; Best Contemporary R&B Album, Best Female R&B Vocal Performance for \"Dangerously in Love 2\", Best R&B Song and Best Rap/Sung Collaboration for \"Crazy in Love\", and Best R&B Performance by a Duo or Group with Vocals for \"The Closer I Get to You\" with Luther Vandross.\n",
      "\n",
      "=====================================\n",
      "\n",
      "Question: Who was the first person to drive through The Queens-Midtown Tunnel?\n",
      "Correct answer IDX: 700\n",
      "\n",
      "Answer 1 IDX: 700\n",
      "Score: 24.942955017089844\n",
      "Text: Manhattan Island is linked to New York City's outer boroughs and New Jersey by several tunnels as well. The Lincoln Tunnel, which carries 120,000 vehicles a day under the Hudson River between New Jersey and Midtown Manhattan, is the busiest vehicular tunnel in the world. The tunnel was built instead of a bridge to allow unfettered passage of large passenger and cargo ships that sailed through New York Harbor and up the Hudson River to Manhattan's piers. The Holland Tunnel, connecting Lower Manhattan to Jersey City, New Jersey, was the world's first mechanically ventilated vehicular tunnel when it opened in 1927. The Queens-Midtown Tunnel, built to relieve congestion on the bridges connecting Manhattan with Queens and Brooklyn, was the largest non-federal project in its time when it was completed in 1940. President Franklin D. Roosevelt was the first person to drive through it. The Hugh L. Carey Tunnel runs underneath Battery Park and connects the Financial District at the southern tip of Manhattan to Red Hook in Brooklyn.\n",
      "\n",
      "Answer 2 IDX: 699\n",
      "Score: 18.63574981689453\n",
      "Text: The George Washington Bridge is the world's busiest motor vehicle bridge, connecting Manhattan to Bergen County, New Jersey. The Verrazano-Narrows Bridge is the longest suspension bridge in the Americas and one of the world's longest. The Brooklyn Bridge is an icon of the city itself. The towers of the Brooklyn Bridge are built of limestone, granite, and Rosendale cement, and their architectural style is neo-Gothic, with characteristic pointed arches above the passageways through the stone towers. This bridge was also the longest suspension bridge in the world from its opening until 1903, and is the first steel-wire suspension bridge.\n",
      "\n",
      "Answer 3 IDX: 11\n",
      "Score: 17.565139770507812\n",
      "Text: In 1882, Albert Zahm (John Zahm's brother) built an early wind tunnel used to compare lift to drag of aeronautical models. Around 1899, Professor Jerome Green became the first American to send a wireless message. In 1931, Father Julius Nieuwland performed early work on basic reactions that was used to create neoprene. Study of nuclear physics at the university began with the building of a nuclear accelerator in 1936, and continues now partly through a partnership in the Joint Institute for Nuclear Astrophysics.\n",
      "\n",
      "Answer 4 IDX: 592\n",
      "Score: 16.183521270751953\n",
      "Text: The first non-Native American inhabitant of what would eventually become New York City was Dominican trader Juan Rodriguez (transliterated to Dutch as Jan Rodrigues). Born in Santo Domingo of Portuguese and African descent, he arrived in Manhattan during the winter of 1613–1614, trapping for pelts and trading with the local population as a representative of the Dutch. Broadway, from 159th Street to 218th Street, is named Juan Rodriguez Way in his honor.\n",
      "\n",
      "Answer 5 IDX: 720\n",
      "Score: 15.951091766357422\n",
      "Text: New York City also has an extensive web of expressways and parkways, which link the city's boroughs to each other as well as to northern New Jersey, Westchester County, Long Island, and southwestern Connecticut through various bridges and tunnels. Because these highways serve millions of outer borough and suburban residents who commute into Manhattan, it is quite common for motorists to be stranded for hours in traffic jams that are a daily occurrence, particularly during rush hour.\n",
      "\n",
      "=====================================\n",
      "\n",
      "Question: What public figure defended New York in January 2016?\n",
      "Correct answer IDX: 616\n",
      "\n",
      "Answer 1 IDX: 616\n",
      "Score: 23.005884170532227\n",
      "Text: When one Republican presidential candidate for the 2016 election ridiculed the liberalism of \"New York values\" in January 2016, Donald Trump, leading in the polls, vigorously defended his city. The National Review, a conservative magazine published in the city since its founding by William F. Buckley, Jr. in 1955, commented, \"By hearkening back to New York's heart after 9/11, for a moment Trump transcended politics. How easily we forget, but for weeks after the terror attacks, New York was America.\"\n",
      "\n",
      "Answer 2 IDX: 647\n",
      "Score: 20.734189987182617\n",
      "Text: The New York metropolitan area is home to a self-identifying gay and bisexual community estimated at 568,903 individuals, the largest in the United States and one of the world's largest. Same-sex marriages in New York were legalized on June 24, 2011 and were authorized to take place beginning 30 days thereafter.\n",
      "\n",
      "Answer 3 IDX: 580\n",
      "Score: 18.844505310058594\n",
      "Text: The AP reported that \"The state-controlled media has largely ignored the issue, apparently under the propaganda bureau's instructions. Parents and volunteers who have questioned authorities have been detained and threatened.\"\n",
      "\n",
      "Answer 4 IDX: 606\n",
      "Score: 18.625972747802734\n",
      "Text: Democratic Party candidates were consistently elected to local office, increasing the city's ties to the South and its dominant party. In 1861, Mayor Fernando Wood called on the aldermen to declare independence from Albany and the United States after the South seceded, but his proposal was not acted on. Anger at new military conscription laws during the American Civil War (1861–1865), which spared wealthier men who could afford to pay a $300 (equivalent to $5,766 in 2016) commutation fee to hire a substitute, led to the Draft Riots of 1863, whose most visible participants were ethnic Irish working class. The situation deteriorated into attacks on New York's elite, followed by attacks on black New Yorkers and their property after fierce competition for a decade between Irish immigrants and blacks for work. Rioters burned the Colored Orphan Asylum to the ground, but more than 200 children escaped harm due to efforts of the New York City Police Department, which was mainly made up of Irish immigrants. According to historian James M. McPherson (2001), at least 120 people were killed. In all, eleven black men were lynched over five days, and the riots forced hundreds of blacks to flee the city for Williamsburg, Brooklyn, as well as New Jersey; the black population in Manhattan fell below 10,000 by 1865, which it had last been in 1820. The white working class had established dominance. Violence by longshoremen against black men was especially fierce in the docks area. It was one of the worst incidents of civil unrest in American history.\n",
      "\n",
      "Answer 5 IDX: 594\n",
      "Score: 18.291271209716797\n",
      "Text: In 1664, Peter Stuyvesant, the Director-General of the colony of New Netherland, surrendered New Amsterdam to the English without bloodshed. The English promptly renamed the fledgling city \"New York\" after the Duke of York (later King James II).\n",
      "\n",
      "=====================================\n",
      "\n",
      "Question: What was used as a communications aid in the relief efforts?\n",
      "Correct answer IDX: 557\n",
      "\n",
      "Answer 1 IDX: 556\n",
      "Score: 20.050891876220703\n",
      "Text: On May 16, rescue groups from South Korea, Japan, Singapore, Russia and Taiwan arrived to join the rescue effort. The United States shared some of its satellite images of the quake-stricken areas with Chinese authorities. During the weekend, the US sent into China two U.S. Air Force C-17's carrying supplies, which included tents and generators. Xinhua reported 135,000 Chinese troops and medics were involved in the rescue effort across 58 counties and cities.\n",
      "\n",
      "Answer 2 IDX: 559\n",
      "Score: 20.03274917602539\n",
      "Text: Following the earthquake, donations were made by people from all over mainland China, with booths set up in schools, at banks, and around gas stations. People also donated blood, resulting in according to Xinhua long line-ups in most major Chinese cities. Many donated through text messaging on mobile phones to accounts set up by China Unicom and China Mobile By May 16, the Chinese government had allocated a total of $772 million for earthquake relief so far, up sharply from $159 million from May 14.\n",
      "\n",
      "Answer 3 IDX: 557\n",
      "Score: 19.850223541259766\n",
      "Text: The Internet was extensively used for passing information to aid rescue and recovery efforts. For example, the official news agency Xinhua set up an online rescue request center in order to find the blind spots of disaster recovery. After knowing that rescue helicopters had trouble landing into the epicenter area in Wenchuan, a student proposed a landing spot online and it was chosen as the first touchdown place for the helicopters[not in citation given]. Volunteers also set up several websites to help store contact information for victims and evacuees. On May 31, a rescue helicopter carrying earthquake survivors and crew members crashed in fog and turbulence in Wenchuan county. No-one survived.\n",
      "\n",
      "Answer 4 IDX: 522\n",
      "Score: 19.627185821533203\n",
      "Text: Immediately after the earthquake event, mobile and terrestrial telecommunications were cut to the affected and surrounding area, with all internet capabilities cut to the Sichuan area too. Elements of telecommunications were restored by the government piece by piece over the next number of months as the situation in the Sichuan province gradually improved. Eventually, a handful of major news and media websites were made accessible online in the region, albeit with dramatically pared back webpages.\n",
      "\n",
      "Answer 5 IDX: 551\n",
      "Score: 19.47212028503418\n",
      "Text: Many rescue teams, including that of the Taipei Fire Department from Taiwan, were reported ready to join the rescue effort in Sichuan as early as Wednesday. However, the Red Cross Society of China said that (on May 13) \"it was inconvenient currently due to the traffic problem to the hardest hit areas closest to the epicenter.\" The Red Cross Society of China also stated that the disaster areas need tents, medical supplies, drinking water and food; however it recommended donating cash instead of other items, as it had not been possible to reach roads that were completely damaged or places that were blocked off by landslides. Landslides continuously threatened the progress of a search and rescue group of 80 men, each carrying about 40 kg of relief supplies, from a motorized infantry brigade under commander Yang Wenyao, as they tried to reach the ethnically Tibetan village of Sier at a height of 4000 m above sea level in Pingwu county. The extreme terrain conditions precluded the use of helicopter evacuation, and over 300 of the Tibetan villagers were stranded in their demolished village for five days without food and water before the rescue group finally arrived to help the injured and stranded villagers down the mountain.\n",
      "\n",
      "=====================================\n"
     ]
    }
   ],
   "source": [
    "for idx in random_indices:\n",
    "    analyze_question(idx)"
   ]
  },
  {
   "cell_type": "markdown",
   "metadata": {},
   "source": [
    "#### Add FAISS"
   ]
  },
  {
   "cell_type": "code",
   "execution_count": 16,
   "metadata": {},
   "outputs": [
    {
     "data": {
      "text/plain": [
       "Dataset({\n",
       "    features: ['answer_emb', 'idx'],\n",
       "    num_rows: 1867\n",
       "})"
      ]
     },
     "execution_count": 16,
     "metadata": {},
     "output_type": "execute_result"
    }
   ],
   "source": [
    "answers_emb_dict = {\n",
    "    \"answer_emb\": [emb.detach().cpu().numpy() for emb in answers_emb],\n",
    "    \"idx\": [i for i, _ in enumerate(unique_answers)],\n",
    "}\n",
    "\n",
    "answers_emb_dataset = Dataset.from_dict(answers_emb_dict)\n",
    "\n",
    "answers_emb_dataset"
   ]
  },
  {
   "cell_type": "code",
   "execution_count": 17,
   "metadata": {},
   "outputs": [
    {
     "data": {
      "application/vnd.jupyter.widget-view+json": {
       "model_id": "3bdf972f4aaf4b4c80ab1cd2131cd40c",
       "version_major": 2,
       "version_minor": 0
      },
      "text/plain": [
       "  0%|          | 0/2 [00:00<?, ?it/s]"
      ]
     },
     "metadata": {},
     "output_type": "display_data"
    },
    {
     "data": {
      "text/plain": [
       "Dataset({\n",
       "    features: ['answer_emb', 'idx'],\n",
       "    num_rows: 1867\n",
       "})"
      ]
     },
     "execution_count": 17,
     "metadata": {},
     "output_type": "execute_result"
    }
   ],
   "source": [
    "answers_emb_dataset.add_faiss_index(column=\"answer_emb\")"
   ]
  },
  {
   "cell_type": "code",
   "execution_count": 18,
   "metadata": {},
   "outputs": [],
   "source": [
    "def analyze_question_faiss(question_idx):\n",
    "    question_emb = questions_emb[question_idx].detach().cpu().numpy()\n",
    "\n",
    "    scores, samples = answers_emb_dataset.get_nearest_examples(\n",
    "        \"answer_emb\", question_emb, k=top_k\n",
    "    )\n",
    "\n",
    "    print_query_results(question_idx, scores, samples[\"idx\"])"
   ]
  },
  {
   "cell_type": "code",
   "execution_count": 19,
   "metadata": {},
   "outputs": [
    {
     "name": "stdout",
     "output_type": "stream",
     "text": [
      "\n",
      "Question: To whom did the Virgin Mary allegedly appear in 1858 in Lourdes France?\n",
      "Correct answer IDX: 0\n",
      "\n",
      "Answer 1 IDX: 0\n",
      "Score: 37.27167510986328\n",
      "Text: Architecturally, the school has a Catholic character. Atop the Main Building's gold dome is a golden statue of the Virgin Mary. Immediately in front of the Main Building and facing it, is a copper statue of Christ with arms upraised with the legend \"Venite Ad Me Omnes\". Next to the Main Building is the Basilica of the Sacred Heart. Immediately behind the basilica is the Grotto, a Marian place of prayer and reflection. It is a replica of the grotto at Lourdes, France where the Virgin Mary reputedly appeared to Saint Bernadette Soubirous in 1858. At the end of the main drive (and in a direct line that connects through 3 statues and the Gold Dome), is a simple, modern stone statue of Mary.\n",
      "\n",
      "Answer 2 IDX: 589\n",
      "Score: 45.78667449951172\n",
      "Text: The first documented visit by a European was in 1524 by Giovanni da Verrazzano, a Florentine explorer in the service of the French crown, who sailed his ship La Dauphine into New York Harbor. He claimed the area for France and named it \"Nouvelle Angoulême\" (New Angoulême).\n",
      "\n",
      "Answer 3 IDX: 268\n",
      "Score: 48.35456085205078\n",
      "Text: The funeral, held at the Church of the Madeleine in Paris, was delayed almost two weeks, until 30 October. Entrance was restricted to ticket holders as many people were expected to attend. Over 3,000 people arrived without invitations, from as far as London, Berlin and Vienna, and were excluded.\n",
      "\n",
      "Answer 4 IDX: 38\n",
      "Score: 48.7030029296875\n",
      "Text: The University of Notre Dame du Lac (or simply Notre Dame /ˌnoʊtərˈdeɪm/ NOH-tər-DAYM) is a Catholic research university located adjacent to South Bend, Indiana, in the United States. In French, Notre Dame du Lac means \"Our Lady of the Lake\" and refers to the university's patron saint, the Virgin Mary. The main campus covers 1,250 acres in a suburban setting and it contains a number of recognizable landmarks, such as the Golden Dome, the \"Word of Life\" mural (commonly known as Touchdown Jesus), and the Basilica.\n",
      "\n",
      "Answer 5 IDX: 983\n",
      "Score: 48.75345230102539\n",
      "Text: Tourist hotspots in Portugal are Lisbon, Algarve, Madeira, Porto and the city of Coimbra, also, between 4-5 million religious pilgrims visit Fátima each year, where apparitions of the Blessed Virgin Mary to three shepherd children reportedly took place in 1917. The Sanctuary of Fátima is one of the largest Roman Catholic shrines in the world. The Portuguese government continues to promote and develop new tourist destinations, such as the Douro Valley, the island of Porto Santo, and Alentejo. Lisbon is the 16th European city which attracts the most tourists (with seven million tourists occupying the city's hotels in 2006, a number that grew 11.8% compared to previous year). Lisbon in recent years surpassed the Algarve as the leading tourist region in Portugal. Porto and Northern Portugal, especially the urban areas north of Douro River valley, was the tourist destination which grew most (11.9%) in 2006, surpassing Madeira (in 2010), as the third most visited destination.[citation needed]\n",
      "\n",
      "=====================================\n"
     ]
    }
   ],
   "source": [
    "analyze_question_faiss(0)"
   ]
  },
  {
   "cell_type": "code",
   "execution_count": 20,
   "metadata": {},
   "outputs": [
    {
     "name": "stdout",
     "output_type": "stream",
     "text": [
      "\n",
      "Question: What condition did Frédéric describe the piano that arrived to him through many dangerous obstacles?\n",
      "Correct answer IDX: 244\n",
      "\n",
      "Answer 1 IDX: 217\n",
      "Score: 35.46853256225586\n",
      "Text: Frédéric François Chopin (/ˈʃoʊpæn/; French pronunciation: ​[fʁe.de.ʁik fʁɑ̃.swa ʃɔ.pɛ̃]; 22 February or 1 March 1810 – 17 October 1849), born Fryderyk Franciszek Chopin,[n 1] was a Polish and French (by citizenship and birth of father) composer and a virtuoso pianist of the Romantic era, who wrote primarily for the solo piano. He gained and has maintained renown worldwide as one of the leading musicians of his era, whose \"poetic genius was based on a professional technique that was without equal in his generation.\" Chopin was born in what was then the Duchy of Warsaw, and grew up in Warsaw, which after 1815 became part of Congress Poland. A child prodigy, he completed his musical education and composed his earlier works in Warsaw before leaving Poland at the age of 20, less than a month before the outbreak of the November 1830 Uprising.\n",
      "\n",
      "Answer 2 IDX: 244\n",
      "Score: 36.217437744140625\n",
      "Text: On 3 December, Chopin complained about his bad health and the incompetence of the doctors in Majorca: \"Three doctors have visited me ... The first said I was dead; the second said I was dying; and the third said I was about to die.\" He also had problems having his Pleyel piano sent to him. It finally arrived from Paris in December. Chopin wrote to Pleyel in January 1839: \"I am sending you my Preludes [(Op. 28)]. I finished them on your little piano, which arrived in the best possible condition in spite of the sea, the bad weather and the Palma customs.\" Chopin was also able to undertake work on his Ballade No. 2, Op. 38; two Polonaises, Op. 40; and the Scherzo No. 3, Op. 39.\n",
      "\n",
      "Answer 3 IDX: 296\n",
      "Score: 36.89635467529297\n",
      "Text: Jones comments that \"Chopin's unique position as a composer, despite the fact that virtually everything he wrote was for the piano, has rarely been questioned.\" He also notes that Chopin was fortunate to arrive in Paris in 1831—\"the artistic environment, the publishers who were willing to print his music, the wealthy and aristocratic who paid what Chopin asked for their lessons\"—and these factors, as well as his musical genius, also fuelled his contemporary and later reputation. While his illness and his love-affairs conform to some of the stereotypes of romanticism, the rarity of his public recitals (as opposed to performances at fashionable Paris soirées) led Arthur Hutchings to suggest that \"his lack of Byronic flamboyance [and] his aristocratic reclusiveness make him exceptional\" among his romantic contemporaries, such as Liszt and Henri Herz.\n",
      "\n",
      "Answer 4 IDX: 248\n",
      "Score: 39.44637680053711\n",
      "Text: From 1842 onwards, Chopin showed signs of serious illness. After a solo recital in Paris on 21 February 1842, he wrote to Grzymała: \"I have to lie in bed all day long, my mouth and tonsils are aching so much.\" He was forced by illness to decline a written invitation from Alkan to participate in a repeat performance of the Beethoven Seventh Symphony arrangement at Erard's on 1 March 1843. Late in 1844, Charles Hallé visited Chopin and found him \"hardly able to move, bent like a half-opened penknife and evidently in great pain\", although his spirits returned when he started to play the piano for his visitor. Chopin's health continued to deteriorate, particularly from this time onwards. Modern research suggests that apart from any other illnesses, he may also have suffered from temporal lobe epilepsy.\n",
      "\n",
      "Answer 5 IDX: 232\n",
      "Score: 40.185516357421875\n",
      "Text: Chopin's successes as a composer and performer opened the door to western Europe for him, and on 2 November 1830, he set out, in the words of Zdzisław Jachimecki, \"into the wide world, with no very clearly defined aim, forever.\" With Woyciechowski, he headed for Austria, intending to go on to Italy. Later that month, in Warsaw, the November 1830 Uprising broke out, and Woyciechowski returned to Poland to enlist. Chopin, now alone in Vienna, was nostalgic for his homeland, and wrote to a friend, \"I curse the moment of my departure.\" When in September 1831 he learned, while travelling from Vienna to Paris, that the uprising had been crushed, he expressed his anguish in the pages of his private journal: \"Oh God! ... You are there, and yet you do not take vengeance!\" Jachimecki ascribes to these events the composer's maturing \"into an inspired national bard who intuited the past, present and future of his native Poland.\"\n",
      "\n",
      "=====================================\n",
      "\n",
      "Question: When did Beyoncé release her first solo album?\n",
      "Correct answer IDX: 65\n",
      "\n",
      "Answer 1 IDX: 80\n",
      "Score: 28.51746368408203\n",
      "Text: On February 6, 2016, one day before her performance at the Super Bowl, Beyoncé released a new single exclusively on music streaming service Tidal called \"Formation\".\n",
      "\n",
      "Answer 2 IDX: 56\n",
      "Score: 29.271512985229492\n",
      "Text: Following the disbandment of Destiny's Child in June 2005, she released her second solo album, B'Day (2006), which contained hits \"Déjà Vu\", \"Irreplaceable\", and \"Beautiful Liar\". Beyoncé also ventured into acting, with a Golden Globe-nominated performance in Dreamgirls (2006), and starring roles in The Pink Panther (2006) and Obsessed (2009). Her marriage to rapper Jay Z and portrayal of Etta James in Cadillac Records (2008) influenced her third album, I Am... Sasha Fierce (2008), which saw the birth of her alter-ego Sasha Fierce and earned a record-setting six Grammy Awards in 2010, including Song of the Year for \"Single Ladies (Put a Ring on It)\". Beyoncé took a hiatus from music in 2010 and took over management of her career; her fourth album 4 (2011) was subsequently mellower in tone, exploring 1970s funk, 1980s pop, and 1990s soul. Her critically acclaimed fifth studio album, Beyoncé (2013), was distinguished from previous releases by its experimental production and exploration of darker themes.\n",
      "\n",
      "Answer 3 IDX: 67\n",
      "Score: 30.471599578857422\n",
      "Text: Beyoncé's second solo album B'Day was released on September 5, 2006, in the US, to coincide with her twenty-fifth birthday. It sold 541,000 copies in its first week and debuted atop the Billboard 200, becoming Beyoncé's second consecutive number-one album in the United States. The album's lead single \"Déjà Vu\", featuring Jay Z, reached the top five on the Billboard Hot 100 chart. The second international single \"Irreplaceable\" was a commercial success worldwide, reaching number one in Australia, Hungary, Ireland, New Zealand and the United States. B'Day also produced three other singles; \"Ring the Alarm\", \"Get Me Bodied\", and \"Green Light\" (released in the United Kingdom only).\n",
      "\n",
      "Answer 4 IDX: 78\n",
      "Score: 30.855037689208984\n",
      "Text: On December 13, 2013, Beyoncé unexpectedly released her eponymous fifth studio album on the iTunes Store without any prior announcement or promotion. The album debuted atop the Billboard 200 chart, giving Beyoncé her fifth consecutive number-one album in the US. This made her the first woman in the chart's history to have her first five studio albums debut at number one. Beyoncé received critical acclaim and commercial success, selling one million digital copies worldwide in six days; The New York Times noted the album's unconventional, unexpected release as significant. Musically an electro-R&B album, it concerns darker themes previously unexplored in her work, such as \"bulimia, postnatal depression [and] the fears and insecurities of marriage and motherhood\". The single \"Drunk in Love\", featuring Jay Z, peaked at number two on the Billboard Hot 100 chart. In April 2014, after much speculation in the weeks before, Beyoncé and Jay Z officially announced their On the Run Tour. It served as the couple's first co-headlining stadium tour together. On August 24, 2014, she received the Video Vanguard Award at the 2014 MTV Video Music Awards. Knowles also took home three competitive awards: Best Video with a Social Message and Best Cinematography for \"Pretty Hurts\", as well as best collaboration for \"Drunk in Love\". In November, Forbes reported that Beyoncé was the top-earning woman in music for the second year in a row—earning $115 million in the year, more than double her earnings in 2013. Beyoncé was reissued with new material in three forms: as an extended play, a box set, as well as a full platinum edition.\n",
      "\n",
      "Answer 5 IDX: 65\n",
      "Score: 31.120332717895508\n",
      "Text: Beyoncé's first solo recording was a feature on Jay Z's \"'03 Bonnie & Clyde\" that was released in October 2002, peaking at number four on the U.S. Billboard Hot 100 chart. Her first solo album Dangerously in Love was released on June 24, 2003, after Michelle Williams and Kelly Rowland had released their solo efforts. The album sold 317,000 copies in its first week, debuted atop the Billboard 200, and has since sold 11 million copies worldwide. The album's lead single, \"Crazy in Love\", featuring Jay Z, became Beyoncé's first number-one single as a solo artist in the US. The single \"Baby Boy\" also reached number one, and singles, \"Me, Myself and I\" and \"Naughty Girl\", both reached the top-five. The album earned Beyoncé a then record-tying five awards at the 46th Annual Grammy Awards; Best Contemporary R&B Album, Best Female R&B Vocal Performance for \"Dangerously in Love 2\", Best R&B Song and Best Rap/Sung Collaboration for \"Crazy in Love\", and Best R&B Performance by a Duo or Group with Vocals for \"The Closer I Get to You\" with Luther Vandross.\n",
      "\n",
      "=====================================\n",
      "\n",
      "Question: Who was the first person to drive through The Queens-Midtown Tunnel?\n",
      "Correct answer IDX: 700\n",
      "\n",
      "Answer 1 IDX: 700\n",
      "Score: 28.665355682373047\n",
      "Text: Manhattan Island is linked to New York City's outer boroughs and New Jersey by several tunnels as well. The Lincoln Tunnel, which carries 120,000 vehicles a day under the Hudson River between New Jersey and Midtown Manhattan, is the busiest vehicular tunnel in the world. The tunnel was built instead of a bridge to allow unfettered passage of large passenger and cargo ships that sailed through New York Harbor and up the Hudson River to Manhattan's piers. The Holland Tunnel, connecting Lower Manhattan to Jersey City, New Jersey, was the world's first mechanically ventilated vehicular tunnel when it opened in 1927. The Queens-Midtown Tunnel, built to relieve congestion on the bridges connecting Manhattan with Queens and Brooklyn, was the largest non-federal project in its time when it was completed in 1940. President Franklin D. Roosevelt was the first person to drive through it. The Hugh L. Carey Tunnel runs underneath Battery Park and connects the Financial District at the southern tip of Manhattan to Red Hook in Brooklyn.\n",
      "\n",
      "Answer 2 IDX: 699\n",
      "Score: 39.36454772949219\n",
      "Text: The George Washington Bridge is the world's busiest motor vehicle bridge, connecting Manhattan to Bergen County, New Jersey. The Verrazano-Narrows Bridge is the longest suspension bridge in the Americas and one of the world's longest. The Brooklyn Bridge is an icon of the city itself. The towers of the Brooklyn Bridge are built of limestone, granite, and Rosendale cement, and their architectural style is neo-Gothic, with characteristic pointed arches above the passageways through the stone towers. This bridge was also the longest suspension bridge in the world from its opening until 1903, and is the first steel-wire suspension bridge.\n",
      "\n",
      "Answer 3 IDX: 607\n",
      "Score: 43.89407730102539\n",
      "Text: In 1898, the modern City of New York was formed with the consolidation of Brooklyn (until then a separate city), the County of New York (which then included parts of the Bronx), the County of Richmond, and the western portion of the County of Queens. The opening of the subway in 1904, first built as separate private systems, helped bind the new city together. Throughout the first half of the 20th century, the city became a world center for industry, commerce, and communication.\n",
      "\n",
      "Answer 4 IDX: 604\n",
      "Score: 44.34552764892578\n",
      "Text: Several prominent American literary figures lived in New York during the 1830s and 1840s, including William Cullen Bryant, Washington Irving, Herman Melville, Rufus Wilmot Griswold, John Keese, Nathaniel Parker Willis, and Edgar Allan Poe. Public-minded members of the contemporaneous business elite lobbied for the establishment of Central Park, which in 1857 became the first landscaped park in an American city.\n",
      "\n",
      "Answer 5 IDX: 715\n",
      "Score: 44.577484130859375\n",
      "Text: New York City's commuter rail network is the largest in North America. The rail network, connecting New York City to its suburbs, consists of the Long Island Rail Road, Metro-North Railroad, and New Jersey Transit. The combined systems converge at Grand Central Terminal and Pennsylvania Station and contain more than 250 stations and 20 rail lines. In Queens, the elevated AirTrain people mover system connects JFK International Airport to the New York City Subway and the Long Island Rail Road; a separate AirTrain system is planned alongside the Grand Central Parkway to connect LaGuardia Airport to these transit systems. For intercity rail, New York City is served by Amtrak, whose busiest station by a significant margin is Pennsylvania Station on the West Side of Manhattan, from which Amtrak provides connections to Boston, Philadelphia, and Washington, D.C. along the Northeast Corridor, as well as long-distance train service to other North American cities.\n",
      "\n",
      "=====================================\n",
      "\n",
      "Question: What public figure defended New York in January 2016?\n",
      "Correct answer IDX: 616\n",
      "\n",
      "Answer 1 IDX: 616\n",
      "Score: 36.410980224609375\n",
      "Text: When one Republican presidential candidate for the 2016 election ridiculed the liberalism of \"New York values\" in January 2016, Donald Trump, leading in the polls, vigorously defended his city. The National Review, a conservative magazine published in the city since its founding by William F. Buckley, Jr. in 1955, commented, \"By hearkening back to New York's heart after 9/11, for a moment Trump transcended politics. How easily we forget, but for weeks after the terror attacks, New York was America.\"\n",
      "\n",
      "Answer 2 IDX: 580\n",
      "Score: 40.70248794555664\n",
      "Text: The AP reported that \"The state-controlled media has largely ignored the issue, apparently under the propaganda bureau's instructions. Parents and volunteers who have questioned authorities have been detained and threatened.\"\n",
      "\n",
      "Answer 3 IDX: 647\n",
      "Score: 41.63235092163086\n",
      "Text: The New York metropolitan area is home to a self-identifying gay and bisexual community estimated at 568,903 individuals, the largest in the United States and one of the world's largest. Same-sex marriages in New York were legalized on June 24, 2011 and were authorized to take place beginning 30 days thereafter.\n",
      "\n",
      "Answer 4 IDX: 726\n",
      "Score: 44.591896057128906\n",
      "Text: New York City has been a metropolitan municipality with a mayor-council form of government since its consolidation in 1898. The government of New York is more centralized than that of most other U.S. cities. In New York City, the city government is responsible for public education, correctional institutions, public safety, recreational facilities, sanitation, water supply, and welfare services.\n",
      "\n",
      "Answer 5 IDX: 594\n",
      "Score: 45.78812026977539\n",
      "Text: In 1664, Peter Stuyvesant, the Director-General of the colony of New Netherland, surrendered New Amsterdam to the English without bloodshed. The English promptly renamed the fledgling city \"New York\" after the Duke of York (later King James II).\n",
      "\n",
      "=====================================\n",
      "\n",
      "Question: What was used as a communications aid in the relief efforts?\n",
      "Correct answer IDX: 557\n",
      "\n",
      "Answer 1 IDX: 522\n",
      "Score: 37.96941375732422\n",
      "Text: Immediately after the earthquake event, mobile and terrestrial telecommunications were cut to the affected and surrounding area, with all internet capabilities cut to the Sichuan area too. Elements of telecommunications were restored by the government piece by piece over the next number of months as the situation in the Sichuan province gradually improved. Eventually, a handful of major news and media websites were made accessible online in the region, albeit with dramatically pared back webpages.\n",
      "\n",
      "Answer 2 IDX: 574\n",
      "Score: 38.887001037597656\n",
      "Text: Because of the magnitude of the quake, and the media attention on China, foreign nations and organizations immediately responded to the disaster by offering condolences and assistance. On May 14, UNICEF reported that China formally requested the support of the international community to respond to the needs of affected families.\n",
      "\n",
      "Answer 3 IDX: 556\n",
      "Score: 39.46895980834961\n",
      "Text: On May 16, rescue groups from South Korea, Japan, Singapore, Russia and Taiwan arrived to join the rescue effort. The United States shared some of its satellite images of the quake-stricken areas with Chinese authorities. During the weekend, the US sent into China two U.S. Air Force C-17's carrying supplies, which included tents and generators. Xinhua reported 135,000 Chinese troops and medics were involved in the rescue effort across 58 counties and cities.\n",
      "\n",
      "Answer 4 IDX: 559\n",
      "Score: 40.133480072021484\n",
      "Text: Following the earthquake, donations were made by people from all over mainland China, with booths set up in schools, at banks, and around gas stations. People also donated blood, resulting in according to Xinhua long line-ups in most major Chinese cities. Many donated through text messaging on mobile phones to accounts set up by China Unicom and China Mobile By May 16, the Chinese government had allocated a total of $772 million for earthquake relief so far, up sharply from $159 million from May 14.\n",
      "\n",
      "Answer 5 IDX: 557\n",
      "Score: 41.442195892333984\n",
      "Text: The Internet was extensively used for passing information to aid rescue and recovery efforts. For example, the official news agency Xinhua set up an online rescue request center in order to find the blind spots of disaster recovery. After knowing that rescue helicopters had trouble landing into the epicenter area in Wenchuan, a student proposed a landing spot online and it was chosen as the first touchdown place for the helicopters[not in citation given]. Volunteers also set up several websites to help store contact information for victims and evacuees. On May 31, a rescue helicopter carrying earthquake survivors and crew members crashed in fog and turbulence in Wenchuan county. No-one survived.\n",
      "\n",
      "=====================================\n"
     ]
    }
   ],
   "source": [
    "for idx in random_indices:\n",
    "    analyze_question_faiss(idx)"
   ]
  },
  {
   "cell_type": "markdown",
   "metadata": {},
   "source": [
    "#### Calculate metrics (retrieval only)"
   ]
  },
  {
   "cell_type": "code",
   "execution_count": 21,
   "metadata": {},
   "outputs": [],
   "source": [
    "similarity_scores = model.similarity(questions_emb, answers_emb)\n",
    "\n",
    "_, retrieved_answers_cosine = torch.topk(similarity_scores, k=top_k)\n",
    "retrieved_answers_cosine = retrieved_answers_cosine.tolist()"
   ]
  },
  {
   "cell_type": "code",
   "execution_count": 22,
   "metadata": {},
   "outputs": [
    {
     "name": "stderr",
     "output_type": "stream",
     "text": [
      "100%|██████████| 10000/10000 [00:12<00:00, 793.15it/s]\n"
     ]
    }
   ],
   "source": [
    "retrieved_answers_faiss = []\n",
    "\n",
    "for i in tqdm(range(0, len(dataset))):\n",
    "    question_emb = questions_emb[i].detach().cpu().numpy()\n",
    "\n",
    "    _, samples = answers_emb_dataset.get_nearest_examples(\n",
    "        \"answer_emb\", question_emb, k=top_k\n",
    "    )\n",
    "\n",
    "    retrieved_answers_faiss.append(samples[\"idx\"])"
   ]
  },
  {
   "cell_type": "code",
   "execution_count": 23,
   "metadata": {},
   "outputs": [],
   "source": [
    "from metrics import calc_recall, calc_mrr"
   ]
  },
  {
   "cell_type": "code",
   "execution_count": 24,
   "metadata": {},
   "outputs": [],
   "source": [
    "y_true = dataset[\"answer_map\"]"
   ]
  },
  {
   "cell_type": "code",
   "execution_count": 25,
   "metadata": {},
   "outputs": [
    {
     "name": "stdout",
     "output_type": "stream",
     "text": [
      "Recall@5 Cosine:  0.9423300644189855\n",
      "Recall@5 Faiss:  0.9247229096034981\n"
     ]
    }
   ],
   "source": [
    "recall_cosine = calc_recall(y_true, retrieved_answers_cosine, num_classes=len(unique_answers))\n",
    "\n",
    "recall_faiss = calc_recall(y_true, retrieved_answers_faiss, num_classes=len(unique_answers))\n",
    "\n",
    "print(f\"Recall@{top_k} Cosine: \", recall_cosine)\n",
    "print(f\"Recall@{top_k} Faiss: \", recall_faiss)"
   ]
  },
  {
   "cell_type": "code",
   "execution_count": 26,
   "metadata": {},
   "outputs": [
    {
     "name": "stdout",
     "output_type": "stream",
     "text": [
      "MRR Cosine:  0.8072366666666587\n",
      "MRR Faiss:  0.7656399999999914\n"
     ]
    }
   ],
   "source": [
    "mrr_cosine = calc_mrr(y_true, retrieved_answers_cosine)\n",
    "\n",
    "mrr_faiss = calc_mrr(y_true, retrieved_answers_faiss)\n",
    "\n",
    "print(f\"MRR Cosine: \", mrr_cosine)\n",
    "print(f\"MRR Faiss: \", mrr_faiss)"
   ]
  },
  {
   "cell_type": "markdown",
   "metadata": {},
   "source": [
    "## Re-ranking"
   ]
  },
  {
   "cell_type": "code",
   "execution_count": 27,
   "metadata": {},
   "outputs": [],
   "source": [
    "reranker = CrossEncoder('cross-encoder/ms-marco-MiniLM-L-6-v2')"
   ]
  },
  {
   "cell_type": "code",
   "execution_count": 28,
   "metadata": {},
   "outputs": [],
   "source": [
    "def print_rerank_results(\n",
    "    question_idx: int,\n",
    "    retriever_scores: torch.Tensor,\n",
    "    retriever_indices: torch.Tensor,\n",
    "    reranker_scores: torch.Tensor\n",
    "):\n",
    "    ranking_scores, ranking = torch.sort(reranker_scores, descending=True)\n",
    "\n",
    "    sorted_retriever_scores = retriever_scores[ranking]\n",
    "    sorted_retriever_indices = retriever_indices[ranking]\n",
    "    \n",
    "    print(\"\\nQuestion:\", dataset[\"question\"][question_idx])\n",
    "    print(f\"Correct answer IDX: {dataset['answer_map'][question_idx]}\")\n",
    "    print(\"Original order: \", retriever_indices.tolist())\n",
    "    print(\"Reranked order: \", sorted_retriever_indices.tolist())\n",
    "    print()\n",
    "\n",
    "    for (idx, retriever_score, reranker_score) in zip(sorted_retriever_indices, sorted_retriever_scores, ranking_scores):\n",
    "        print(f\"Answer IDX: {idx}\")\n",
    "        print(f\"Original score: {retriever_score.item()}\")\n",
    "        print(f\"Reranker score: {reranker_score.item()}\")\n",
    "        print(f\"Text: {unique_answers[idx]}\\n\")"
   ]
  },
  {
   "cell_type": "code",
   "execution_count": 29,
   "metadata": {},
   "outputs": [],
   "source": [
    "def analyze_question_with_rerank(question_idx):\n",
    "    question = dataset[\"question\"][question_idx]\n",
    "    question_emb = questions_emb[question_idx]\n",
    "\n",
    "    similarity_scores = model.similarity(question_emb, answers_emb)[0]\n",
    "\n",
    "    scores, indices = torch.topk(similarity_scores, k=top_k)\n",
    "\n",
    "    reranker_input = [\n",
    "        [question, unique_answers[idx]] for idx in indices\n",
    "    ]\n",
    "    reranker_scores = reranker.predict(reranker_input)\n",
    "    reranker_scores = torch.tensor(reranker_scores)\n",
    "\n",
    "    print_rerank_results(question_idx, scores, indices, reranker_scores)"
   ]
  },
  {
   "cell_type": "code",
   "execution_count": 30,
   "metadata": {},
   "outputs": [
    {
     "name": "stdout",
     "output_type": "stream",
     "text": [
      "\n",
      "Question: To whom did the Virgin Mary allegedly appear in 1858 in Lourdes France?\n",
      "Correct answer IDX: 0\n",
      "Original order:  [0, 589, 983, 38, 999]\n",
      "Reranked order:  [0, 983, 38, 589, 999]\n",
      "\n",
      "Answer IDX: 0\n",
      "Original score: 21.645751953125\n",
      "Reranker score: 5.316110134124756\n",
      "Text: Architecturally, the school has a Catholic character. Atop the Main Building's gold dome is a golden statue of the Virgin Mary. Immediately in front of the Main Building and facing it, is a copper statue of Christ with arms upraised with the legend \"Venite Ad Me Omnes\". Next to the Main Building is the Basilica of the Sacred Heart. Immediately behind the basilica is the Grotto, a Marian place of prayer and reflection. It is a replica of the grotto at Lourdes, France where the Virgin Mary reputedly appeared to Saint Bernadette Soubirous in 1858. At the end of the main drive (and in a direct line that connects through 3 statues and the Gold Dome), is a simple, modern stone statue of Mary.\n",
      "\n",
      "Answer IDX: 983\n",
      "Original score: 15.784933090209961\n",
      "Reranker score: -7.337862014770508\n",
      "Text: Tourist hotspots in Portugal are Lisbon, Algarve, Madeira, Porto and the city of Coimbra, also, between 4-5 million religious pilgrims visit Fátima each year, where apparitions of the Blessed Virgin Mary to three shepherd children reportedly took place in 1917. The Sanctuary of Fátima is one of the largest Roman Catholic shrines in the world. The Portuguese government continues to promote and develop new tourist destinations, such as the Douro Valley, the island of Porto Santo, and Alentejo. Lisbon is the 16th European city which attracts the most tourists (with seven million tourists occupying the city's hotels in 2006, a number that grew 11.8% compared to previous year). Lisbon in recent years surpassed the Algarve as the leading tourist region in Portugal. Porto and Northern Portugal, especially the urban areas north of Douro River valley, was the tourist destination which grew most (11.9%) in 2006, surpassing Madeira (in 2010), as the third most visited destination.[citation needed]\n",
      "\n",
      "Answer IDX: 38\n",
      "Original score: 15.589715003967285\n",
      "Reranker score: -8.216193199157715\n",
      "Text: The University of Notre Dame du Lac (or simply Notre Dame /ˌnoʊtərˈdeɪm/ NOH-tər-DAYM) is a Catholic research university located adjacent to South Bend, Indiana, in the United States. In French, Notre Dame du Lac means \"Our Lady of the Lake\" and refers to the university's patron saint, the Virgin Mary. The main campus covers 1,250 acres in a suburban setting and it contains a number of recognizable landmarks, such as the Golden Dome, the \"Word of Life\" mural (commonly known as Touchdown Jesus), and the Basilica.\n",
      "\n",
      "Answer IDX: 589\n",
      "Original score: 16.99161148071289\n",
      "Reranker score: -10.247223854064941\n",
      "Text: The first documented visit by a European was in 1524 by Giovanni da Verrazzano, a Florentine explorer in the service of the French crown, who sailed his ship La Dauphine into New York Harbor. He claimed the area for France and named it \"Nouvelle Angoulême\" (New Angoulême).\n",
      "\n",
      "Answer IDX: 999\n",
      "Original score: 15.161367416381836\n",
      "Reranker score: -10.921130180358887\n",
      "Text: Within the white inescutcheon, the five quinas (small blue shields) with their five white bezants representing the five wounds of Christ (Portuguese: Cinco Chagas) when crucified and are popularly associated with the \"Miracle of Ourique\". The story associated with this miracle tells that before the Battle of Ourique (25 July 1139), an old hermit appeared before Count Afonso Henriques (future Afonso I) as a divine messenger. He foretold Afonso's victory and assured him that God was watching over him and his peers. The messenger advised him to walk away from his camp, alone, if he heard a nearby chapel bell tolling, in the following night. In doing so, he witnessed an apparition of Jesus on the cross. Ecstatic, Afonso heard Jesus promising victories for the coming battles, as well as God's wish to act through Afonso, and his descendants, in order to create an empire which would carry His name to unknown lands, thus choosing the Portuguese to perform great tasks.\n",
      "\n"
     ]
    }
   ],
   "source": [
    "analyze_question_with_rerank(0)"
   ]
  },
  {
   "cell_type": "code",
   "execution_count": 31,
   "metadata": {},
   "outputs": [
    {
     "name": "stdout",
     "output_type": "stream",
     "text": [
      "\n",
      "Question: What condition did Frédéric describe the piano that arrived to him through many dangerous obstacles?\n",
      "Correct answer IDX: 244\n",
      "Original order:  [244, 296, 248, 217, 218]\n",
      "Reranked order:  [244, 217, 248, 296, 218]\n",
      "\n",
      "Answer IDX: 244\n",
      "Original score: 23.215896606445312\n",
      "Reranker score: -1.2244844436645508\n",
      "Text: On 3 December, Chopin complained about his bad health and the incompetence of the doctors in Majorca: \"Three doctors have visited me ... The first said I was dead; the second said I was dying; and the third said I was about to die.\" He also had problems having his Pleyel piano sent to him. It finally arrived from Paris in December. Chopin wrote to Pleyel in January 1839: \"I am sending you my Preludes [(Op. 28)]. I finished them on your little piano, which arrived in the best possible condition in spite of the sea, the bad weather and the Palma customs.\" Chopin was also able to undertake work on his Ballade No. 2, Op. 38; two Polonaises, Op. 40; and the Scherzo No. 3, Op. 39.\n",
      "\n",
      "Answer IDX: 217\n",
      "Original score: 21.40324592590332\n",
      "Reranker score: -5.897513389587402\n",
      "Text: Frédéric François Chopin (/ˈʃoʊpæn/; French pronunciation: ​[fʁe.de.ʁik fʁɑ̃.swa ʃɔ.pɛ̃]; 22 February or 1 March 1810 – 17 October 1849), born Fryderyk Franciszek Chopin,[n 1] was a Polish and French (by citizenship and birth of father) composer and a virtuoso pianist of the Romantic era, who wrote primarily for the solo piano. He gained and has maintained renown worldwide as one of the leading musicians of his era, whose \"poetic genius was based on a professional technique that was without equal in his generation.\" Chopin was born in what was then the Duchy of Warsaw, and grew up in Warsaw, which after 1815 became part of Congress Poland. A child prodigy, he completed his musical education and composed his earlier works in Warsaw before leaving Poland at the age of 20, less than a month before the outbreak of the November 1830 Uprising.\n",
      "\n",
      "Answer IDX: 248\n",
      "Original score: 21.625804901123047\n",
      "Reranker score: -6.156230926513672\n",
      "Text: From 1842 onwards, Chopin showed signs of serious illness. After a solo recital in Paris on 21 February 1842, he wrote to Grzymała: \"I have to lie in bed all day long, my mouth and tonsils are aching so much.\" He was forced by illness to decline a written invitation from Alkan to participate in a repeat performance of the Beethoven Seventh Symphony arrangement at Erard's on 1 March 1843. Late in 1844, Charles Hallé visited Chopin and found him \"hardly able to move, bent like a half-opened penknife and evidently in great pain\", although his spirits returned when he started to play the piano for his visitor. Chopin's health continued to deteriorate, particularly from this time onwards. Modern research suggests that apart from any other illnesses, he may also have suffered from temporal lobe epilepsy.\n",
      "\n",
      "Answer IDX: 296\n",
      "Original score: 22.439037322998047\n",
      "Reranker score: -6.453000545501709\n",
      "Text: Jones comments that \"Chopin's unique position as a composer, despite the fact that virtually everything he wrote was for the piano, has rarely been questioned.\" He also notes that Chopin was fortunate to arrive in Paris in 1831—\"the artistic environment, the publishers who were willing to print his music, the wealthy and aristocratic who paid what Chopin asked for their lessons\"—and these factors, as well as his musical genius, also fuelled his contemporary and later reputation. While his illness and his love-affairs conform to some of the stereotypes of romanticism, the rarity of his public recitals (as opposed to performances at fashionable Paris soirées) led Arthur Hutchings to suggest that \"his lack of Byronic flamboyance [and] his aristocratic reclusiveness make him exceptional\" among his romantic contemporaries, such as Liszt and Henri Herz.\n",
      "\n",
      "Answer IDX: 218\n",
      "Original score: 20.625246047973633\n",
      "Reranker score: -7.941034317016602\n",
      "Text: At the age of 21 he settled in Paris. Thereafter, during the last 18 years of his life, he gave only some 30 public performances, preferring the more intimate atmosphere of the salon. He supported himself by selling his compositions and teaching piano, for which he was in high demand. Chopin formed a friendship with Franz Liszt and was admired by many of his musical contemporaries, including Robert Schumann. In 1835 he obtained French citizenship. After a failed engagement to Maria Wodzińska, from 1837 to 1847 he maintained an often troubled relationship with the French writer George Sand. A brief and unhappy visit to Majorca with Sand in 1838–39 was one of his most productive periods of composition. In his last years, he was financially supported by his admirer Jane Stirling, who also arranged for him to visit Scotland in 1848. Through most of his life, Chopin suffered from poor health. He died in Paris in 1849, probably of tuberculosis.\n",
      "\n",
      "\n",
      "Question: When did Beyoncé release her first solo album?\n",
      "Correct answer IDX: 65\n",
      "Original order:  [56, 80, 78, 67, 65]\n",
      "Reranked order:  [65, 67, 78, 56, 80]\n",
      "\n",
      "Answer IDX: 65\n",
      "Original score: 20.207990646362305\n",
      "Reranker score: 10.259571075439453\n",
      "Text: Beyoncé's first solo recording was a feature on Jay Z's \"'03 Bonnie & Clyde\" that was released in October 2002, peaking at number four on the U.S. Billboard Hot 100 chart. Her first solo album Dangerously in Love was released on June 24, 2003, after Michelle Williams and Kelly Rowland had released their solo efforts. The album sold 317,000 copies in its first week, debuted atop the Billboard 200, and has since sold 11 million copies worldwide. The album's lead single, \"Crazy in Love\", featuring Jay Z, became Beyoncé's first number-one single as a solo artist in the US. The single \"Baby Boy\" also reached number one, and singles, \"Me, Myself and I\" and \"Naughty Girl\", both reached the top-five. The album earned Beyoncé a then record-tying five awards at the 46th Annual Grammy Awards; Best Contemporary R&B Album, Best Female R&B Vocal Performance for \"Dangerously in Love 2\", Best R&B Song and Best Rap/Sung Collaboration for \"Crazy in Love\", and Best R&B Performance by a Duo or Group with Vocals for \"The Closer I Get to You\" with Luther Vandross.\n",
      "\n",
      "Answer IDX: 67\n",
      "Original score: 20.329559326171875\n",
      "Reranker score: 8.01254653930664\n",
      "Text: Beyoncé's second solo album B'Day was released on September 5, 2006, in the US, to coincide with her twenty-fifth birthday. It sold 541,000 copies in its first week and debuted atop the Billboard 200, becoming Beyoncé's second consecutive number-one album in the United States. The album's lead single \"Déjà Vu\", featuring Jay Z, reached the top five on the Billboard Hot 100 chart. The second international single \"Irreplaceable\" was a commercial success worldwide, reaching number one in Australia, Hungary, Ireland, New Zealand and the United States. B'Day also produced three other singles; \"Ring the Alarm\", \"Get Me Bodied\", and \"Green Light\" (released in the United Kingdom only).\n",
      "\n",
      "Answer IDX: 78\n",
      "Original score: 20.68880844116211\n",
      "Reranker score: 7.055740833282471\n",
      "Text: On December 13, 2013, Beyoncé unexpectedly released her eponymous fifth studio album on the iTunes Store without any prior announcement or promotion. The album debuted atop the Billboard 200 chart, giving Beyoncé her fifth consecutive number-one album in the US. This made her the first woman in the chart's history to have her first five studio albums debut at number one. Beyoncé received critical acclaim and commercial success, selling one million digital copies worldwide in six days; The New York Times noted the album's unconventional, unexpected release as significant. Musically an electro-R&B album, it concerns darker themes previously unexplored in her work, such as \"bulimia, postnatal depression [and] the fears and insecurities of marriage and motherhood\". The single \"Drunk in Love\", featuring Jay Z, peaked at number two on the Billboard Hot 100 chart. In April 2014, after much speculation in the weeks before, Beyoncé and Jay Z officially announced their On the Run Tour. It served as the couple's first co-headlining stadium tour together. On August 24, 2014, she received the Video Vanguard Award at the 2014 MTV Video Music Awards. Knowles also took home three competitive awards: Best Video with a Social Message and Best Cinematography for \"Pretty Hurts\", as well as best collaboration for \"Drunk in Love\". In November, Forbes reported that Beyoncé was the top-earning woman in music for the second year in a row—earning $115 million in the year, more than double her earnings in 2013. Beyoncé was reissued with new material in three forms: as an extended play, a box set, as well as a full platinum edition.\n",
      "\n",
      "Answer IDX: 56\n",
      "Original score: 21.415756225585938\n",
      "Reranker score: 6.807149887084961\n",
      "Text: Following the disbandment of Destiny's Child in June 2005, she released her second solo album, B'Day (2006), which contained hits \"Déjà Vu\", \"Irreplaceable\", and \"Beautiful Liar\". Beyoncé also ventured into acting, with a Golden Globe-nominated performance in Dreamgirls (2006), and starring roles in The Pink Panther (2006) and Obsessed (2009). Her marriage to rapper Jay Z and portrayal of Etta James in Cadillac Records (2008) influenced her third album, I Am... Sasha Fierce (2008), which saw the birth of her alter-ego Sasha Fierce and earned a record-setting six Grammy Awards in 2010, including Song of the Year for \"Single Ladies (Put a Ring on It)\". Beyoncé took a hiatus from music in 2010 and took over management of her career; her fourth album 4 (2011) was subsequently mellower in tone, exploring 1970s funk, 1980s pop, and 1990s soul. Her critically acclaimed fifth studio album, Beyoncé (2013), was distinguished from previous releases by its experimental production and exploration of darker themes.\n",
      "\n",
      "Answer IDX: 80\n",
      "Original score: 20.777050018310547\n",
      "Reranker score: 2.590818405151367\n",
      "Text: On February 6, 2016, one day before her performance at the Super Bowl, Beyoncé released a new single exclusively on music streaming service Tidal called \"Formation\".\n",
      "\n",
      "\n",
      "Question: Who was the first person to drive through The Queens-Midtown Tunnel?\n",
      "Correct answer IDX: 700\n",
      "Original order:  [700, 699, 11, 592, 720]\n",
      "Reranked order:  [700, 11, 592, 699, 720]\n",
      "\n",
      "Answer IDX: 700\n",
      "Original score: 24.942955017089844\n",
      "Reranker score: 7.708834648132324\n",
      "Text: Manhattan Island is linked to New York City's outer boroughs and New Jersey by several tunnels as well. The Lincoln Tunnel, which carries 120,000 vehicles a day under the Hudson River between New Jersey and Midtown Manhattan, is the busiest vehicular tunnel in the world. The tunnel was built instead of a bridge to allow unfettered passage of large passenger and cargo ships that sailed through New York Harbor and up the Hudson River to Manhattan's piers. The Holland Tunnel, connecting Lower Manhattan to Jersey City, New Jersey, was the world's first mechanically ventilated vehicular tunnel when it opened in 1927. The Queens-Midtown Tunnel, built to relieve congestion on the bridges connecting Manhattan with Queens and Brooklyn, was the largest non-federal project in its time when it was completed in 1940. President Franklin D. Roosevelt was the first person to drive through it. The Hugh L. Carey Tunnel runs underneath Battery Park and connects the Financial District at the southern tip of Manhattan to Red Hook in Brooklyn.\n",
      "\n",
      "Answer IDX: 11\n",
      "Original score: 17.565139770507812\n",
      "Reranker score: -5.200627326965332\n",
      "Text: In 1882, Albert Zahm (John Zahm's brother) built an early wind tunnel used to compare lift to drag of aeronautical models. Around 1899, Professor Jerome Green became the first American to send a wireless message. In 1931, Father Julius Nieuwland performed early work on basic reactions that was used to create neoprene. Study of nuclear physics at the university began with the building of a nuclear accelerator in 1936, and continues now partly through a partnership in the Joint Institute for Nuclear Astrophysics.\n",
      "\n",
      "Answer IDX: 592\n",
      "Original score: 16.183521270751953\n",
      "Reranker score: -5.729176044464111\n",
      "Text: The first non-Native American inhabitant of what would eventually become New York City was Dominican trader Juan Rodriguez (transliterated to Dutch as Jan Rodrigues). Born in Santo Domingo of Portuguese and African descent, he arrived in Manhattan during the winter of 1613–1614, trapping for pelts and trading with the local population as a representative of the Dutch. Broadway, from 159th Street to 218th Street, is named Juan Rodriguez Way in his honor.\n",
      "\n",
      "Answer IDX: 699\n",
      "Original score: 18.63574981689453\n",
      "Reranker score: -6.382234573364258\n",
      "Text: The George Washington Bridge is the world's busiest motor vehicle bridge, connecting Manhattan to Bergen County, New Jersey. The Verrazano-Narrows Bridge is the longest suspension bridge in the Americas and one of the world's longest. The Brooklyn Bridge is an icon of the city itself. The towers of the Brooklyn Bridge are built of limestone, granite, and Rosendale cement, and their architectural style is neo-Gothic, with characteristic pointed arches above the passageways through the stone towers. This bridge was also the longest suspension bridge in the world from its opening until 1903, and is the first steel-wire suspension bridge.\n",
      "\n",
      "Answer IDX: 720\n",
      "Original score: 15.951091766357422\n",
      "Reranker score: -9.677331924438477\n",
      "Text: New York City also has an extensive web of expressways and parkways, which link the city's boroughs to each other as well as to northern New Jersey, Westchester County, Long Island, and southwestern Connecticut through various bridges and tunnels. Because these highways serve millions of outer borough and suburban residents who commute into Manhattan, it is quite common for motorists to be stranded for hours in traffic jams that are a daily occurrence, particularly during rush hour.\n",
      "\n",
      "\n",
      "Question: What public figure defended New York in January 2016?\n",
      "Correct answer IDX: 616\n",
      "Original order:  [616, 647, 580, 606, 594]\n",
      "Reranked order:  [616, 594, 606, 647, 580]\n",
      "\n",
      "Answer IDX: 616\n",
      "Original score: 23.005884170532227\n",
      "Reranker score: 6.2481584548950195\n",
      "Text: When one Republican presidential candidate for the 2016 election ridiculed the liberalism of \"New York values\" in January 2016, Donald Trump, leading in the polls, vigorously defended his city. The National Review, a conservative magazine published in the city since its founding by William F. Buckley, Jr. in 1955, commented, \"By hearkening back to New York's heart after 9/11, for a moment Trump transcended politics. How easily we forget, but for weeks after the terror attacks, New York was America.\"\n",
      "\n",
      "Answer IDX: 594\n",
      "Original score: 18.291271209716797\n",
      "Reranker score: -7.514383316040039\n",
      "Text: In 1664, Peter Stuyvesant, the Director-General of the colony of New Netherland, surrendered New Amsterdam to the English without bloodshed. The English promptly renamed the fledgling city \"New York\" after the Duke of York (later King James II).\n",
      "\n",
      "Answer IDX: 606\n",
      "Original score: 18.625972747802734\n",
      "Reranker score: -7.547320365905762\n",
      "Text: Democratic Party candidates were consistently elected to local office, increasing the city's ties to the South and its dominant party. In 1861, Mayor Fernando Wood called on the aldermen to declare independence from Albany and the United States after the South seceded, but his proposal was not acted on. Anger at new military conscription laws during the American Civil War (1861–1865), which spared wealthier men who could afford to pay a $300 (equivalent to $5,766 in 2016) commutation fee to hire a substitute, led to the Draft Riots of 1863, whose most visible participants were ethnic Irish working class. The situation deteriorated into attacks on New York's elite, followed by attacks on black New Yorkers and their property after fierce competition for a decade between Irish immigrants and blacks for work. Rioters burned the Colored Orphan Asylum to the ground, but more than 200 children escaped harm due to efforts of the New York City Police Department, which was mainly made up of Irish immigrants. According to historian James M. McPherson (2001), at least 120 people were killed. In all, eleven black men were lynched over five days, and the riots forced hundreds of blacks to flee the city for Williamsburg, Brooklyn, as well as New Jersey; the black population in Manhattan fell below 10,000 by 1865, which it had last been in 1820. The white working class had established dominance. Violence by longshoremen against black men was especially fierce in the docks area. It was one of the worst incidents of civil unrest in American history.\n",
      "\n",
      "Answer IDX: 647\n",
      "Original score: 20.734189987182617\n",
      "Reranker score: -9.620462417602539\n",
      "Text: The New York metropolitan area is home to a self-identifying gay and bisexual community estimated at 568,903 individuals, the largest in the United States and one of the world's largest. Same-sex marriages in New York were legalized on June 24, 2011 and were authorized to take place beginning 30 days thereafter.\n",
      "\n",
      "Answer IDX: 580\n",
      "Original score: 18.844505310058594\n",
      "Reranker score: -11.050667762756348\n",
      "Text: The AP reported that \"The state-controlled media has largely ignored the issue, apparently under the propaganda bureau's instructions. Parents and volunteers who have questioned authorities have been detained and threatened.\"\n",
      "\n",
      "\n",
      "Question: What was used as a communications aid in the relief efforts?\n",
      "Correct answer IDX: 557\n",
      "Original order:  [556, 559, 557, 522, 551]\n",
      "Reranked order:  [557, 551, 559, 556, 522]\n",
      "\n",
      "Answer IDX: 557\n",
      "Original score: 19.850223541259766\n",
      "Reranker score: -3.4583349227905273\n",
      "Text: The Internet was extensively used for passing information to aid rescue and recovery efforts. For example, the official news agency Xinhua set up an online rescue request center in order to find the blind spots of disaster recovery. After knowing that rescue helicopters had trouble landing into the epicenter area in Wenchuan, a student proposed a landing spot online and it was chosen as the first touchdown place for the helicopters[not in citation given]. Volunteers also set up several websites to help store contact information for victims and evacuees. On May 31, a rescue helicopter carrying earthquake survivors and crew members crashed in fog and turbulence in Wenchuan county. No-one survived.\n",
      "\n",
      "Answer IDX: 551\n",
      "Original score: 19.47212028503418\n",
      "Reranker score: -6.244833946228027\n",
      "Text: Many rescue teams, including that of the Taipei Fire Department from Taiwan, were reported ready to join the rescue effort in Sichuan as early as Wednesday. However, the Red Cross Society of China said that (on May 13) \"it was inconvenient currently due to the traffic problem to the hardest hit areas closest to the epicenter.\" The Red Cross Society of China also stated that the disaster areas need tents, medical supplies, drinking water and food; however it recommended donating cash instead of other items, as it had not been possible to reach roads that were completely damaged or places that were blocked off by landslides. Landslides continuously threatened the progress of a search and rescue group of 80 men, each carrying about 40 kg of relief supplies, from a motorized infantry brigade under commander Yang Wenyao, as they tried to reach the ethnically Tibetan village of Sier at a height of 4000 m above sea level in Pingwu county. The extreme terrain conditions precluded the use of helicopter evacuation, and over 300 of the Tibetan villagers were stranded in their demolished village for five days without food and water before the rescue group finally arrived to help the injured and stranded villagers down the mountain.\n",
      "\n",
      "Answer IDX: 559\n",
      "Original score: 20.03274917602539\n",
      "Reranker score: -6.777259826660156\n",
      "Text: Following the earthquake, donations were made by people from all over mainland China, with booths set up in schools, at banks, and around gas stations. People also donated blood, resulting in according to Xinhua long line-ups in most major Chinese cities. Many donated through text messaging on mobile phones to accounts set up by China Unicom and China Mobile By May 16, the Chinese government had allocated a total of $772 million for earthquake relief so far, up sharply from $159 million from May 14.\n",
      "\n",
      "Answer IDX: 556\n",
      "Original score: 20.050891876220703\n",
      "Reranker score: -8.50039005279541\n",
      "Text: On May 16, rescue groups from South Korea, Japan, Singapore, Russia and Taiwan arrived to join the rescue effort. The United States shared some of its satellite images of the quake-stricken areas with Chinese authorities. During the weekend, the US sent into China two U.S. Air Force C-17's carrying supplies, which included tents and generators. Xinhua reported 135,000 Chinese troops and medics were involved in the rescue effort across 58 counties and cities.\n",
      "\n",
      "Answer IDX: 522\n",
      "Original score: 19.627185821533203\n",
      "Reranker score: -10.64531135559082\n",
      "Text: Immediately after the earthquake event, mobile and terrestrial telecommunications were cut to the affected and surrounding area, with all internet capabilities cut to the Sichuan area too. Elements of telecommunications were restored by the government piece by piece over the next number of months as the situation in the Sichuan province gradually improved. Eventually, a handful of major news and media websites were made accessible online in the region, albeit with dramatically pared back webpages.\n",
      "\n"
     ]
    }
   ],
   "source": [
    "for idx in random_indices:\n",
    "    analyze_question_with_rerank(idx)"
   ]
  },
  {
   "cell_type": "code",
   "execution_count": 32,
   "metadata": {},
   "outputs": [],
   "source": [
    "def analyze_question_faiss_with_rerank(question_idx):\n",
    "    question = dataset[\"question\"][question_idx]\n",
    "    question_emb = questions_emb[question_idx].detach().cpu().numpy()\n",
    "\n",
    "    scores, samples = answers_emb_dataset.get_nearest_examples(\n",
    "        \"answer_emb\", question_emb, k=top_k\n",
    "    )\n",
    "\n",
    "    reranker_input = [\n",
    "        [question, unique_answers[idx]] for idx in samples[\"idx\"]\n",
    "    ]\n",
    "    reranker_scores = reranker.predict(reranker_input)\n",
    "\n",
    "    print_rerank_results(\n",
    "        question_idx, torch.tensor(scores),\n",
    "        torch.tensor(samples[\"idx\"]),\n",
    "        torch.tensor(reranker_scores)\n",
    "    )"
   ]
  },
  {
   "cell_type": "code",
   "execution_count": 33,
   "metadata": {},
   "outputs": [
    {
     "name": "stdout",
     "output_type": "stream",
     "text": [
      "\n",
      "Question: To whom did the Virgin Mary allegedly appear in 1858 in Lourdes France?\n",
      "Correct answer IDX: 0\n",
      "Original order:  [0, 589, 268, 38, 983]\n",
      "Reranked order:  [0, 983, 38, 589, 268]\n",
      "\n",
      "Answer IDX: 0\n",
      "Original score: 37.27167510986328\n",
      "Reranker score: 5.316110134124756\n",
      "Text: Architecturally, the school has a Catholic character. Atop the Main Building's gold dome is a golden statue of the Virgin Mary. Immediately in front of the Main Building and facing it, is a copper statue of Christ with arms upraised with the legend \"Venite Ad Me Omnes\". Next to the Main Building is the Basilica of the Sacred Heart. Immediately behind the basilica is the Grotto, a Marian place of prayer and reflection. It is a replica of the grotto at Lourdes, France where the Virgin Mary reputedly appeared to Saint Bernadette Soubirous in 1858. At the end of the main drive (and in a direct line that connects through 3 statues and the Gold Dome), is a simple, modern stone statue of Mary.\n",
      "\n",
      "Answer IDX: 983\n",
      "Original score: 48.75345230102539\n",
      "Reranker score: -7.337862014770508\n",
      "Text: Tourist hotspots in Portugal are Lisbon, Algarve, Madeira, Porto and the city of Coimbra, also, between 4-5 million religious pilgrims visit Fátima each year, where apparitions of the Blessed Virgin Mary to three shepherd children reportedly took place in 1917. The Sanctuary of Fátima is one of the largest Roman Catholic shrines in the world. The Portuguese government continues to promote and develop new tourist destinations, such as the Douro Valley, the island of Porto Santo, and Alentejo. Lisbon is the 16th European city which attracts the most tourists (with seven million tourists occupying the city's hotels in 2006, a number that grew 11.8% compared to previous year). Lisbon in recent years surpassed the Algarve as the leading tourist region in Portugal. Porto and Northern Portugal, especially the urban areas north of Douro River valley, was the tourist destination which grew most (11.9%) in 2006, surpassing Madeira (in 2010), as the third most visited destination.[citation needed]\n",
      "\n",
      "Answer IDX: 38\n",
      "Original score: 48.7030029296875\n",
      "Reranker score: -8.216193199157715\n",
      "Text: The University of Notre Dame du Lac (or simply Notre Dame /ˌnoʊtərˈdeɪm/ NOH-tər-DAYM) is a Catholic research university located adjacent to South Bend, Indiana, in the United States. In French, Notre Dame du Lac means \"Our Lady of the Lake\" and refers to the university's patron saint, the Virgin Mary. The main campus covers 1,250 acres in a suburban setting and it contains a number of recognizable landmarks, such as the Golden Dome, the \"Word of Life\" mural (commonly known as Touchdown Jesus), and the Basilica.\n",
      "\n",
      "Answer IDX: 589\n",
      "Original score: 45.78667449951172\n",
      "Reranker score: -10.247223854064941\n",
      "Text: The first documented visit by a European was in 1524 by Giovanni da Verrazzano, a Florentine explorer in the service of the French crown, who sailed his ship La Dauphine into New York Harbor. He claimed the area for France and named it \"Nouvelle Angoulême\" (New Angoulême).\n",
      "\n",
      "Answer IDX: 268\n",
      "Original score: 48.35456085205078\n",
      "Reranker score: -10.819997787475586\n",
      "Text: The funeral, held at the Church of the Madeleine in Paris, was delayed almost two weeks, until 30 October. Entrance was restricted to ticket holders as many people were expected to attend. Over 3,000 people arrived without invitations, from as far as London, Berlin and Vienna, and were excluded.\n",
      "\n"
     ]
    }
   ],
   "source": [
    "analyze_question_faiss_with_rerank(0)"
   ]
  },
  {
   "cell_type": "code",
   "execution_count": 34,
   "metadata": {},
   "outputs": [
    {
     "name": "stdout",
     "output_type": "stream",
     "text": [
      "\n",
      "Question: What condition did Frédéric describe the piano that arrived to him through many dangerous obstacles?\n",
      "Correct answer IDX: 244\n",
      "Original order:  [217, 244, 296, 248, 232]\n",
      "Reranked order:  [244, 217, 248, 296, 232]\n",
      "\n",
      "Answer IDX: 244\n",
      "Original score: 36.217437744140625\n",
      "Reranker score: -1.2244844436645508\n",
      "Text: On 3 December, Chopin complained about his bad health and the incompetence of the doctors in Majorca: \"Three doctors have visited me ... The first said I was dead; the second said I was dying; and the third said I was about to die.\" He also had problems having his Pleyel piano sent to him. It finally arrived from Paris in December. Chopin wrote to Pleyel in January 1839: \"I am sending you my Preludes [(Op. 28)]. I finished them on your little piano, which arrived in the best possible condition in spite of the sea, the bad weather and the Palma customs.\" Chopin was also able to undertake work on his Ballade No. 2, Op. 38; two Polonaises, Op. 40; and the Scherzo No. 3, Op. 39.\n",
      "\n",
      "Answer IDX: 217\n",
      "Original score: 35.46853256225586\n",
      "Reranker score: -5.897513389587402\n",
      "Text: Frédéric François Chopin (/ˈʃoʊpæn/; French pronunciation: ​[fʁe.de.ʁik fʁɑ̃.swa ʃɔ.pɛ̃]; 22 February or 1 March 1810 – 17 October 1849), born Fryderyk Franciszek Chopin,[n 1] was a Polish and French (by citizenship and birth of father) composer and a virtuoso pianist of the Romantic era, who wrote primarily for the solo piano. He gained and has maintained renown worldwide as one of the leading musicians of his era, whose \"poetic genius was based on a professional technique that was without equal in his generation.\" Chopin was born in what was then the Duchy of Warsaw, and grew up in Warsaw, which after 1815 became part of Congress Poland. A child prodigy, he completed his musical education and composed his earlier works in Warsaw before leaving Poland at the age of 20, less than a month before the outbreak of the November 1830 Uprising.\n",
      "\n",
      "Answer IDX: 248\n",
      "Original score: 39.44637680053711\n",
      "Reranker score: -6.156230926513672\n",
      "Text: From 1842 onwards, Chopin showed signs of serious illness. After a solo recital in Paris on 21 February 1842, he wrote to Grzymała: \"I have to lie in bed all day long, my mouth and tonsils are aching so much.\" He was forced by illness to decline a written invitation from Alkan to participate in a repeat performance of the Beethoven Seventh Symphony arrangement at Erard's on 1 March 1843. Late in 1844, Charles Hallé visited Chopin and found him \"hardly able to move, bent like a half-opened penknife and evidently in great pain\", although his spirits returned when he started to play the piano for his visitor. Chopin's health continued to deteriorate, particularly from this time onwards. Modern research suggests that apart from any other illnesses, he may also have suffered from temporal lobe epilepsy.\n",
      "\n",
      "Answer IDX: 296\n",
      "Original score: 36.89635467529297\n",
      "Reranker score: -6.453000545501709\n",
      "Text: Jones comments that \"Chopin's unique position as a composer, despite the fact that virtually everything he wrote was for the piano, has rarely been questioned.\" He also notes that Chopin was fortunate to arrive in Paris in 1831—\"the artistic environment, the publishers who were willing to print his music, the wealthy and aristocratic who paid what Chopin asked for their lessons\"—and these factors, as well as his musical genius, also fuelled his contemporary and later reputation. While his illness and his love-affairs conform to some of the stereotypes of romanticism, the rarity of his public recitals (as opposed to performances at fashionable Paris soirées) led Arthur Hutchings to suggest that \"his lack of Byronic flamboyance [and] his aristocratic reclusiveness make him exceptional\" among his romantic contemporaries, such as Liszt and Henri Herz.\n",
      "\n",
      "Answer IDX: 232\n",
      "Original score: 40.185516357421875\n",
      "Reranker score: -10.023618698120117\n",
      "Text: Chopin's successes as a composer and performer opened the door to western Europe for him, and on 2 November 1830, he set out, in the words of Zdzisław Jachimecki, \"into the wide world, with no very clearly defined aim, forever.\" With Woyciechowski, he headed for Austria, intending to go on to Italy. Later that month, in Warsaw, the November 1830 Uprising broke out, and Woyciechowski returned to Poland to enlist. Chopin, now alone in Vienna, was nostalgic for his homeland, and wrote to a friend, \"I curse the moment of my departure.\" When in September 1831 he learned, while travelling from Vienna to Paris, that the uprising had been crushed, he expressed his anguish in the pages of his private journal: \"Oh God! ... You are there, and yet you do not take vengeance!\" Jachimecki ascribes to these events the composer's maturing \"into an inspired national bard who intuited the past, present and future of his native Poland.\"\n",
      "\n",
      "\n",
      "Question: When did Beyoncé release her first solo album?\n",
      "Correct answer IDX: 65\n",
      "Original order:  [80, 56, 67, 78, 65]\n",
      "Reranked order:  [65, 67, 78, 56, 80]\n",
      "\n",
      "Answer IDX: 65\n",
      "Original score: 31.120332717895508\n",
      "Reranker score: 10.259571075439453\n",
      "Text: Beyoncé's first solo recording was a feature on Jay Z's \"'03 Bonnie & Clyde\" that was released in October 2002, peaking at number four on the U.S. Billboard Hot 100 chart. Her first solo album Dangerously in Love was released on June 24, 2003, after Michelle Williams and Kelly Rowland had released their solo efforts. The album sold 317,000 copies in its first week, debuted atop the Billboard 200, and has since sold 11 million copies worldwide. The album's lead single, \"Crazy in Love\", featuring Jay Z, became Beyoncé's first number-one single as a solo artist in the US. The single \"Baby Boy\" also reached number one, and singles, \"Me, Myself and I\" and \"Naughty Girl\", both reached the top-five. The album earned Beyoncé a then record-tying five awards at the 46th Annual Grammy Awards; Best Contemporary R&B Album, Best Female R&B Vocal Performance for \"Dangerously in Love 2\", Best R&B Song and Best Rap/Sung Collaboration for \"Crazy in Love\", and Best R&B Performance by a Duo or Group with Vocals for \"The Closer I Get to You\" with Luther Vandross.\n",
      "\n",
      "Answer IDX: 67\n",
      "Original score: 30.471599578857422\n",
      "Reranker score: 8.01254653930664\n",
      "Text: Beyoncé's second solo album B'Day was released on September 5, 2006, in the US, to coincide with her twenty-fifth birthday. It sold 541,000 copies in its first week and debuted atop the Billboard 200, becoming Beyoncé's second consecutive number-one album in the United States. The album's lead single \"Déjà Vu\", featuring Jay Z, reached the top five on the Billboard Hot 100 chart. The second international single \"Irreplaceable\" was a commercial success worldwide, reaching number one in Australia, Hungary, Ireland, New Zealand and the United States. B'Day also produced three other singles; \"Ring the Alarm\", \"Get Me Bodied\", and \"Green Light\" (released in the United Kingdom only).\n",
      "\n",
      "Answer IDX: 78\n",
      "Original score: 30.855037689208984\n",
      "Reranker score: 7.055740833282471\n",
      "Text: On December 13, 2013, Beyoncé unexpectedly released her eponymous fifth studio album on the iTunes Store without any prior announcement or promotion. The album debuted atop the Billboard 200 chart, giving Beyoncé her fifth consecutive number-one album in the US. This made her the first woman in the chart's history to have her first five studio albums debut at number one. Beyoncé received critical acclaim and commercial success, selling one million digital copies worldwide in six days; The New York Times noted the album's unconventional, unexpected release as significant. Musically an electro-R&B album, it concerns darker themes previously unexplored in her work, such as \"bulimia, postnatal depression [and] the fears and insecurities of marriage and motherhood\". The single \"Drunk in Love\", featuring Jay Z, peaked at number two on the Billboard Hot 100 chart. In April 2014, after much speculation in the weeks before, Beyoncé and Jay Z officially announced their On the Run Tour. It served as the couple's first co-headlining stadium tour together. On August 24, 2014, she received the Video Vanguard Award at the 2014 MTV Video Music Awards. Knowles also took home three competitive awards: Best Video with a Social Message and Best Cinematography for \"Pretty Hurts\", as well as best collaboration for \"Drunk in Love\". In November, Forbes reported that Beyoncé was the top-earning woman in music for the second year in a row—earning $115 million in the year, more than double her earnings in 2013. Beyoncé was reissued with new material in three forms: as an extended play, a box set, as well as a full platinum edition.\n",
      "\n",
      "Answer IDX: 56\n",
      "Original score: 29.271512985229492\n",
      "Reranker score: 6.807149887084961\n",
      "Text: Following the disbandment of Destiny's Child in June 2005, she released her second solo album, B'Day (2006), which contained hits \"Déjà Vu\", \"Irreplaceable\", and \"Beautiful Liar\". Beyoncé also ventured into acting, with a Golden Globe-nominated performance in Dreamgirls (2006), and starring roles in The Pink Panther (2006) and Obsessed (2009). Her marriage to rapper Jay Z and portrayal of Etta James in Cadillac Records (2008) influenced her third album, I Am... Sasha Fierce (2008), which saw the birth of her alter-ego Sasha Fierce and earned a record-setting six Grammy Awards in 2010, including Song of the Year for \"Single Ladies (Put a Ring on It)\". Beyoncé took a hiatus from music in 2010 and took over management of her career; her fourth album 4 (2011) was subsequently mellower in tone, exploring 1970s funk, 1980s pop, and 1990s soul. Her critically acclaimed fifth studio album, Beyoncé (2013), was distinguished from previous releases by its experimental production and exploration of darker themes.\n",
      "\n",
      "Answer IDX: 80\n",
      "Original score: 28.51746368408203\n",
      "Reranker score: 2.590818405151367\n",
      "Text: On February 6, 2016, one day before her performance at the Super Bowl, Beyoncé released a new single exclusively on music streaming service Tidal called \"Formation\".\n",
      "\n",
      "\n",
      "Question: Who was the first person to drive through The Queens-Midtown Tunnel?\n",
      "Correct answer IDX: 700\n",
      "Original order:  [700, 699, 607, 604, 715]\n",
      "Reranked order:  [700, 699, 607, 604, 715]\n",
      "\n",
      "Answer IDX: 700\n",
      "Original score: 28.665355682373047\n",
      "Reranker score: 7.708834648132324\n",
      "Text: Manhattan Island is linked to New York City's outer boroughs and New Jersey by several tunnels as well. The Lincoln Tunnel, which carries 120,000 vehicles a day under the Hudson River between New Jersey and Midtown Manhattan, is the busiest vehicular tunnel in the world. The tunnel was built instead of a bridge to allow unfettered passage of large passenger and cargo ships that sailed through New York Harbor and up the Hudson River to Manhattan's piers. The Holland Tunnel, connecting Lower Manhattan to Jersey City, New Jersey, was the world's first mechanically ventilated vehicular tunnel when it opened in 1927. The Queens-Midtown Tunnel, built to relieve congestion on the bridges connecting Manhattan with Queens and Brooklyn, was the largest non-federal project in its time when it was completed in 1940. President Franklin D. Roosevelt was the first person to drive through it. The Hugh L. Carey Tunnel runs underneath Battery Park and connects the Financial District at the southern tip of Manhattan to Red Hook in Brooklyn.\n",
      "\n",
      "Answer IDX: 699\n",
      "Original score: 39.36454772949219\n",
      "Reranker score: -6.382234573364258\n",
      "Text: The George Washington Bridge is the world's busiest motor vehicle bridge, connecting Manhattan to Bergen County, New Jersey. The Verrazano-Narrows Bridge is the longest suspension bridge in the Americas and one of the world's longest. The Brooklyn Bridge is an icon of the city itself. The towers of the Brooklyn Bridge are built of limestone, granite, and Rosendale cement, and their architectural style is neo-Gothic, with characteristic pointed arches above the passageways through the stone towers. This bridge was also the longest suspension bridge in the world from its opening until 1903, and is the first steel-wire suspension bridge.\n",
      "\n",
      "Answer IDX: 607\n",
      "Original score: 43.89407730102539\n",
      "Reranker score: -6.657107830047607\n",
      "Text: In 1898, the modern City of New York was formed with the consolidation of Brooklyn (until then a separate city), the County of New York (which then included parts of the Bronx), the County of Richmond, and the western portion of the County of Queens. The opening of the subway in 1904, first built as separate private systems, helped bind the new city together. Throughout the first half of the 20th century, the city became a world center for industry, commerce, and communication.\n",
      "\n",
      "Answer IDX: 604\n",
      "Original score: 44.34552764892578\n",
      "Reranker score: -7.28537654876709\n",
      "Text: Several prominent American literary figures lived in New York during the 1830s and 1840s, including William Cullen Bryant, Washington Irving, Herman Melville, Rufus Wilmot Griswold, John Keese, Nathaniel Parker Willis, and Edgar Allan Poe. Public-minded members of the contemporaneous business elite lobbied for the establishment of Central Park, which in 1857 became the first landscaped park in an American city.\n",
      "\n",
      "Answer IDX: 715\n",
      "Original score: 44.577484130859375\n",
      "Reranker score: -8.909058570861816\n",
      "Text: New York City's commuter rail network is the largest in North America. The rail network, connecting New York City to its suburbs, consists of the Long Island Rail Road, Metro-North Railroad, and New Jersey Transit. The combined systems converge at Grand Central Terminal and Pennsylvania Station and contain more than 250 stations and 20 rail lines. In Queens, the elevated AirTrain people mover system connects JFK International Airport to the New York City Subway and the Long Island Rail Road; a separate AirTrain system is planned alongside the Grand Central Parkway to connect LaGuardia Airport to these transit systems. For intercity rail, New York City is served by Amtrak, whose busiest station by a significant margin is Pennsylvania Station on the West Side of Manhattan, from which Amtrak provides connections to Boston, Philadelphia, and Washington, D.C. along the Northeast Corridor, as well as long-distance train service to other North American cities.\n",
      "\n",
      "\n",
      "Question: What public figure defended New York in January 2016?\n",
      "Correct answer IDX: 616\n",
      "Original order:  [616, 580, 647, 726, 594]\n",
      "Reranked order:  [616, 594, 726, 647, 580]\n",
      "\n",
      "Answer IDX: 616\n",
      "Original score: 36.410980224609375\n",
      "Reranker score: 6.248156547546387\n",
      "Text: When one Republican presidential candidate for the 2016 election ridiculed the liberalism of \"New York values\" in January 2016, Donald Trump, leading in the polls, vigorously defended his city. The National Review, a conservative magazine published in the city since its founding by William F. Buckley, Jr. in 1955, commented, \"By hearkening back to New York's heart after 9/11, for a moment Trump transcended politics. How easily we forget, but for weeks after the terror attacks, New York was America.\"\n",
      "\n",
      "Answer IDX: 594\n",
      "Original score: 45.78812026977539\n",
      "Reranker score: -7.514385223388672\n",
      "Text: In 1664, Peter Stuyvesant, the Director-General of the colony of New Netherland, surrendered New Amsterdam to the English without bloodshed. The English promptly renamed the fledgling city \"New York\" after the Duke of York (later King James II).\n",
      "\n",
      "Answer IDX: 726\n",
      "Original score: 44.591896057128906\n",
      "Reranker score: -7.64522123336792\n",
      "Text: New York City has been a metropolitan municipality with a mayor-council form of government since its consolidation in 1898. The government of New York is more centralized than that of most other U.S. cities. In New York City, the city government is responsible for public education, correctional institutions, public safety, recreational facilities, sanitation, water supply, and welfare services.\n",
      "\n",
      "Answer IDX: 647\n",
      "Original score: 41.63235092163086\n",
      "Reranker score: -9.620462417602539\n",
      "Text: The New York metropolitan area is home to a self-identifying gay and bisexual community estimated at 568,903 individuals, the largest in the United States and one of the world's largest. Same-sex marriages in New York were legalized on June 24, 2011 and were authorized to take place beginning 30 days thereafter.\n",
      "\n",
      "Answer IDX: 580\n",
      "Original score: 40.70248794555664\n",
      "Reranker score: -11.050667762756348\n",
      "Text: The AP reported that \"The state-controlled media has largely ignored the issue, apparently under the propaganda bureau's instructions. Parents and volunteers who have questioned authorities have been detained and threatened.\"\n",
      "\n",
      "\n",
      "Question: What was used as a communications aid in the relief efforts?\n",
      "Correct answer IDX: 557\n",
      "Original order:  [522, 574, 556, 559, 557]\n",
      "Reranked order:  [557, 559, 556, 574, 522]\n",
      "\n",
      "Answer IDX: 557\n",
      "Original score: 41.442195892333984\n",
      "Reranker score: -3.4583349227905273\n",
      "Text: The Internet was extensively used for passing information to aid rescue and recovery efforts. For example, the official news agency Xinhua set up an online rescue request center in order to find the blind spots of disaster recovery. After knowing that rescue helicopters had trouble landing into the epicenter area in Wenchuan, a student proposed a landing spot online and it was chosen as the first touchdown place for the helicopters[not in citation given]. Volunteers also set up several websites to help store contact information for victims and evacuees. On May 31, a rescue helicopter carrying earthquake survivors and crew members crashed in fog and turbulence in Wenchuan county. No-one survived.\n",
      "\n",
      "Answer IDX: 559\n",
      "Original score: 40.133480072021484\n",
      "Reranker score: -6.777259826660156\n",
      "Text: Following the earthquake, donations were made by people from all over mainland China, with booths set up in schools, at banks, and around gas stations. People also donated blood, resulting in according to Xinhua long line-ups in most major Chinese cities. Many donated through text messaging on mobile phones to accounts set up by China Unicom and China Mobile By May 16, the Chinese government had allocated a total of $772 million for earthquake relief so far, up sharply from $159 million from May 14.\n",
      "\n",
      "Answer IDX: 556\n",
      "Original score: 39.46895980834961\n",
      "Reranker score: -8.50039005279541\n",
      "Text: On May 16, rescue groups from South Korea, Japan, Singapore, Russia and Taiwan arrived to join the rescue effort. The United States shared some of its satellite images of the quake-stricken areas with Chinese authorities. During the weekend, the US sent into China two U.S. Air Force C-17's carrying supplies, which included tents and generators. Xinhua reported 135,000 Chinese troops and medics were involved in the rescue effort across 58 counties and cities.\n",
      "\n",
      "Answer IDX: 574\n",
      "Original score: 38.887001037597656\n",
      "Reranker score: -9.25148868560791\n",
      "Text: Because of the magnitude of the quake, and the media attention on China, foreign nations and organizations immediately responded to the disaster by offering condolences and assistance. On May 14, UNICEF reported that China formally requested the support of the international community to respond to the needs of affected families.\n",
      "\n",
      "Answer IDX: 522\n",
      "Original score: 37.96941375732422\n",
      "Reranker score: -10.64531135559082\n",
      "Text: Immediately after the earthquake event, mobile and terrestrial telecommunications were cut to the affected and surrounding area, with all internet capabilities cut to the Sichuan area too. Elements of telecommunications were restored by the government piece by piece over the next number of months as the situation in the Sichuan province gradually improved. Eventually, a handful of major news and media websites were made accessible online in the region, albeit with dramatically pared back webpages.\n",
      "\n"
     ]
    }
   ],
   "source": [
    "for idx in random_indices:\n",
    "    analyze_question_faiss_with_rerank(idx)"
   ]
  },
  {
   "cell_type": "code",
   "execution_count": null,
   "metadata": {},
   "outputs": [],
   "source": []
  }
 ],
 "metadata": {
  "kernelspec": {
   "display_name": "nlp",
   "language": "python",
   "name": "python3"
  },
  "language_info": {
   "codemirror_mode": {
    "name": "ipython",
    "version": 3
   },
   "file_extension": ".py",
   "mimetype": "text/x-python",
   "name": "python",
   "nbconvert_exporter": "python",
   "pygments_lexer": "ipython3",
   "version": "3.12.7"
  }
 },
 "nbformat": 4,
 "nbformat_minor": 2
}
